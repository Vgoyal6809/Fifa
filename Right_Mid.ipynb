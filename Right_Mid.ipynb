{
 "cells": [
  {
   "cell_type": "markdown",
   "metadata": {},
   "source": [
    "1. Import Libraries"
   ]
  },
  {
   "cell_type": "code",
   "execution_count": 1,
   "metadata": {},
   "outputs": [],
   "source": [
    "import pandas as pd\n",
    "from sklearn.model_selection import train_test_split\n",
    "from sklearn.preprocessing import LabelEncoder"
   ]
  },
  {
   "cell_type": "markdown",
   "metadata": {},
   "source": [
    "2. Reading File"
   ]
  },
  {
   "cell_type": "code",
   "execution_count": 2,
   "metadata": {},
   "outputs": [],
   "source": [
    "RM = pd.read_csv(\"RM_position.csv\")"
   ]
  },
  {
   "cell_type": "markdown",
   "metadata": {},
   "source": [
    "3. Selecting Features"
   ]
  },
  {
   "cell_type": "code",
   "execution_count": 3,
   "metadata": {},
   "outputs": [],
   "source": [
    "\n",
    "# Drop unnecessary columns\n",
    "RM = RM.drop(['Nationality', 'Overall', 'Club', 'Work Rate', 'Body Type',\n",
    "                  'Jersey Number', 'Joined', 'Loaned From', 'Contract Valid Until',\n",
    "                  'GKDiving', 'GKHandling', 'GKKicking', 'GKPositioning', \n",
    "                  'GKReflexes', 'Release Clause', 'Positioning'], axis=1)\n",
    "\n",
    "# Convert categorical features\n",
    "label_encoder = LabelEncoder()\n",
    "RM['Preferred Foot'] = label_encoder.fit_transform(RM['Preferred Foot'])\n",
    "RM['Position'] = label_encoder.fit_transform(RM['Position'])\n",
    "    \n"
   ]
  },
  {
   "cell_type": "markdown",
   "metadata": {},
   "source": [
    "4. Feature Engineering Functions"
   ]
  },
  {
   "cell_type": "code",
   "execution_count": 4,
   "metadata": {},
   "outputs": [],
   "source": [
    "import NormalizeValue\n",
    "\n",
    "RM['Height'] = RM['Height'].apply(NormalizeValue.convert_height_to_cm)\n",
    "RM['Weight'] = RM['Weight'].apply(NormalizeValue.convert_weight_to_kg)\n",
    "RM['Value'] = RM['Value'].apply(NormalizeValue.convert_value_wage).astype(int)\n",
    "RM['Wage'] = RM['Wage'].apply(NormalizeValue.convert_value_wage).astype(int)\n",
    "    \n",
    "    # Create additional features\n",
    "RM['Fitness'] = RM[['Acceleration', 'SprintSpeed', 'Agility', 'Reactions',\n",
    "                         'Balance', 'Jumping', 'Stamina', 'Strength', \n",
    "                         'Aggression', 'Vision']].sum(axis=1)\n",
    "    \n",
    "\n"
   ]
  },
  {
   "cell_type": "markdown",
   "metadata": {},
   "source": [
    "Potential Prediction Model"
   ]
  },
  {
   "cell_type": "code",
   "execution_count": 5,
   "metadata": {},
   "outputs": [
    {
     "name": "stdout",
     "output_type": "stream",
     "text": [
      "Player Potential : \n"
     ]
    },
    {
     "name": "stderr",
     "output_type": "stream",
     "text": [
      "C:\\Users\\goel6\\AppData\\Roaming\\Python\\Python312\\site-packages\\sklearn\\linear_model\\_ridge.py:216: LinAlgWarning: Ill-conditioned matrix (rcond=1.44166e-17): result may not be accurate.\n",
      "  return linalg.solve(A, Xy, assume_a=\"pos\", overwrite_a=True).T\n"
     ]
    },
    {
     "name": "stdout",
     "output_type": "stream",
     "text": [
      "Combined R^2 Test: 0.9217336709325599\n",
      "Combined R^2 Train: 0.9675175483194144\n"
     ]
    }
   ],
   "source": [
    "import CombinedModle\n",
    "\n",
    "# Define features and targets for potential prediction\n",
    "x_potential = RM.drop(['ID', 'Potential'], axis=1)\n",
    "y_potential = RM['Potential']\n",
    "\n",
    "# Ensure x_potential contains only numeric values\n",
    "x_potential = x_potential.select_dtypes(include=['number'])\n",
    "\n",
    "\n",
    "# Split data\n",
    "x_train_p, x_test_p, y_train_p, y_test_p = train_test_split(x_potential, y_potential, test_size=0.25, random_state=42)\n",
    "print(\"Player Potential : \")\n",
    "type='potential'\n",
    "Combine_test_p, Combine_train_p , RM = CombinedModle.train_and_evaluate(RM, type, x_train_p, y_train_p, x_test_p, y_test_p)\n",
    "\n"
   ]
  },
  {
   "cell_type": "markdown",
   "metadata": {},
   "source": [
    "Wage Prediction Model"
   ]
  },
  {
   "cell_type": "code",
   "execution_count": 6,
   "metadata": {},
   "outputs": [
    {
     "name": "stdout",
     "output_type": "stream",
     "text": [
      "\n",
      "Player Wage : \n",
      "Combined R^2 Test: 0.7509007972762378\n",
      "Combined R^2 Train: 0.9017798381900559\n"
     ]
    }
   ],
   "source": [
    "import CombinedModle\n",
    "\n",
    "\n",
    "x_Wage = RM[['International Reputation', 'Potential', 'Fitness', 'Skill Moves','Value']]\n",
    "y_Wage = RM['Wage']\n",
    "\n",
    "# Ensure x_Wage contains only numeric values\n",
    "x_Wage = x_Wage.select_dtypes(include=['number'])\n",
    "\n",
    "# Split data\n",
    "x_train_w, x_test_w, y_train_w, y_test_w = train_test_split(x_Wage, y_Wage, test_size=0.25, random_state=42)\n",
    "print(\"\\nPlayer Wage : \")\n",
    "type='wage'\n",
    "Combine_test_w, Combine_train_w, RM = CombinedModle.train_and_evaluate(RM, type, x_train_w, y_train_w, x_test_w, y_test_w)\n",
    "\n"
   ]
  },
  {
   "cell_type": "markdown",
   "metadata": {},
   "source": [
    "Filtering Top 10 Players"
   ]
  },
  {
   "cell_type": "code",
   "execution_count": 7,
   "metadata": {},
   "outputs": [
    {
     "name": "stdout",
     "output_type": "stream",
     "text": [
      "\n",
      "Top 10 Players' Information:\n",
      "    ID                Name  Age  Potential     Value   Wage  Preferred Foot  International Reputation  Weak Foot  Skill Moves  Position  Height  Weight  Crossing  Finishing  HeadingAccuracy  ShortPassing  Volleys  Dribbling  Curve  FKAccuracy  LongPassing  BallControl  Acceleration  SprintSpeed  Agility  Reactions  Balance  ShotPower  Jumping  Stamina  Strength  LongShots  Aggression  Interceptions  Vision  Penalties  Composure  Marking  StandingTackle  SlidingTackle  Fitness  PredictedPotential  PredictedWage\n",
      "192985        K. De Bruyne   27         92 102000000 355000               1                       4.0        5.0          4.0         1  180.34   69.85      93.0       82.0             55.0          92.0     82.0       86.0   85.0        83.0         91.0         91.0          78.0         76.0     79.0       91.0     77.0       91.0     63.0     90.0      75.0       91.0        76.0           61.0    94.0       79.0       88.0     68.0            58.0           51.0    799.0           92.134338  323322.267842\n",
      "223848 S. Milinković-Savić   23         90  50500000  73000               1                       2.0        4.0          4.0         0  190.50   76.20      64.0       80.0             86.0          85.0     74.0       86.0   78.0        75.0         85.0         87.0          68.0         70.0     66.0       80.0     59.0       83.0     85.0     85.0      88.0       80.0        73.0           78.0    85.0       56.0       82.0     75.0            77.0           72.0    759.0           89.471234  126587.661114\n",
      "210008           A. Rabiot   23         87  33000000  91000               0                       2.0        3.0          3.0         0  193.04   79.83      70.0       69.0             77.0          85.0     72.0       79.0   73.0        59.0         83.0         83.0          73.0         74.0     79.0       83.0     72.0       80.0     73.0     82.0      80.0       79.0        76.0           80.0    80.0       69.0       82.0     70.0            81.0           75.0    772.0           87.620066   85259.500897\n",
      "234153        Carlos Soler   21         87  21000000  31000               1                       1.0        4.0          4.0         3  180.34   76.20      80.0       74.0             56.0          84.0     66.0       79.0   69.0        82.0         79.0         82.0          75.0         77.0     75.0       80.0     70.0       77.0     59.0     78.0      65.0       73.0        49.0           68.0    83.0       73.0       76.0     60.0            65.0           56.0    711.0           87.480389   53647.479049\n",
      "244369        V. Tsygankov   20         86  18000000   1000               0                       1.0        4.0          4.0         3  177.80   68.95      76.0       75.0             45.0          80.0     68.0       80.0   68.0        71.0         69.0         81.0          82.0         83.0     77.0       78.0     73.0       70.0     50.0     74.0      47.0       72.0        57.0           39.0    80.0       61.0       79.0     66.0            36.0           37.0    701.0           86.954915   56718.963997\n",
      "226226         G. Lo Celso   22         86  20000000  72000               0                       1.0        3.0          3.0         1  175.26   69.85      75.0       73.0             59.0          81.0     69.0       81.0   82.0        72.0         80.0         82.0          72.0         75.0     81.0       77.0     81.0       79.0     64.0     80.0      67.0       75.0        65.0           65.0    81.0       60.0       79.0     61.0            67.0           67.0    743.0           86.210492   50204.215003\n",
      "233419            Raphinha   21         86  18000000  13000               0                       1.0        3.0          4.0         3  175.26   68.04      76.0       75.0             45.0          73.0     69.0       81.0   77.0        74.0         62.0         80.0          88.0         86.0     86.0       79.0     82.0       80.0     70.0     87.0      65.0       74.0        74.0           52.0    73.0       68.0       81.0     45.0            41.0           27.0    790.0           85.886348   48022.714534\n",
      "205498            Jorginho   26         87  38000000 155000               1                       2.0        3.0          3.0         0  180.34   67.13      75.0       57.0             56.0          89.0     71.0       82.0   75.0        76.0         87.0         85.0          75.0         69.0     80.0       83.0     73.0       71.0     58.0     79.0      66.0       62.0        79.0           78.0    87.0       84.0       79.0     63.0            78.0           70.0    749.0           85.812011  100784.060717\n",
      "216409         M. Politano   24         84  22500000  57000               0                       2.0        4.0          4.0         3  170.18   67.13      79.0       74.0             40.0          78.0     73.0       84.0   77.0        75.0         74.0         83.0          85.0         84.0     90.0       79.0     82.0       78.0     50.0     79.0      45.0       82.0        63.0           38.0    75.0       70.0       79.0     63.0            29.0           29.0    732.0           85.692048   64743.901396\n",
      "212692          Rony Lopes   22         85  20000000  65000               0                       2.0        3.0          4.0         3  175.26   68.04      78.0       79.0             38.0          79.0     56.0       82.0   76.0        74.0         72.0         81.0          83.0         76.0     84.0       78.0     86.0       76.0     51.0     70.0      56.0       74.0        39.0           29.0    77.0       65.0       74.0     30.0            28.0           27.0    700.0           85.448496   62903.470745\n"
     ]
    }
   ],
   "source": [
    "\n",
    "# Get the top 10 players based on predicted potential\n",
    "top_players = RM.nlargest(10, 'PredictedPotential')\n",
    "    \n",
    "# Display the top players' information in a table format\n",
    "print(\"\\nTop 10 Players' Information:\")\n",
    "print(top_players.to_string(index=False))\n",
    "data= top_players"
   ]
  }
 ],
 "metadata": {
  "kernelspec": {
   "display_name": "Python 3",
   "language": "python",
   "name": "python3"
  },
  "language_info": {
   "codemirror_mode": {
    "name": "ipython",
    "version": 3
   },
   "file_extension": ".py",
   "mimetype": "text/x-python",
   "name": "python",
   "nbconvert_exporter": "python",
   "pygments_lexer": "ipython3",
   "version": "3.12.3"
  }
 },
 "nbformat": 4,
 "nbformat_minor": 2
}
