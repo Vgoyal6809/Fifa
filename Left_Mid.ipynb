{
 "cells": [
  {
   "cell_type": "markdown",
   "metadata": {},
   "source": [
    "1. Import Libraries"
   ]
  },
  {
   "cell_type": "code",
   "execution_count": 1,
   "metadata": {},
   "outputs": [],
   "source": [
    "import pandas as pd\n",
    "from sklearn.model_selection import train_test_split\n",
    "from sklearn.preprocessing import LabelEncoder"
   ]
  },
  {
   "cell_type": "markdown",
   "metadata": {},
   "source": [
    "2. Reading File"
   ]
  },
  {
   "cell_type": "code",
   "execution_count": 2,
   "metadata": {},
   "outputs": [],
   "source": [
    "LM = pd.read_csv(\"LM_position.csv\")"
   ]
  },
  {
   "cell_type": "markdown",
   "metadata": {},
   "source": [
    "3. Selecting Features"
   ]
  },
  {
   "cell_type": "code",
   "execution_count": 3,
   "metadata": {},
   "outputs": [],
   "source": [
    "\n",
    "# Drop unnecessary columns\n",
    "LM = LM.drop(['Nationality', 'Overall', 'Club', 'Work Rate', 'Body Type',\n",
    "                  'Jersey Number', 'Joined', 'Loaned From', 'Contract Valid Until',\n",
    "                  'GKDiving', 'GKHandling', 'GKKicking', 'GKPositioning', \n",
    "                  'GKReflexes', 'Release Clause', 'Positioning'], axis=1)\n",
    "\n",
    "# Convert categorical features\n",
    "label_encoder = LabelEncoder()\n",
    "LM['Preferred Foot'] = label_encoder.fit_transform(LM['Preferred Foot'])\n",
    "LM['Position'] = label_encoder.fit_transform(LM['Position'])\n",
    "    \n"
   ]
  },
  {
   "cell_type": "markdown",
   "metadata": {},
   "source": [
    "4. Feature Engineering Functions"
   ]
  },
  {
   "cell_type": "code",
   "execution_count": 4,
   "metadata": {},
   "outputs": [],
   "source": [
    "import NormalizeValue\n",
    "\n",
    "LM['Height'] = LM['Height'].apply(NormalizeValue.convert_height_to_cm)\n",
    "LM['Weight'] = LM['Weight'].apply(NormalizeValue.convert_weight_to_kg)\n",
    "LM['Value'] = LM['Value'].apply(NormalizeValue.convert_value_wage).astype(int)\n",
    "LM['Wage'] = LM['Wage'].apply(NormalizeValue.convert_value_wage).astype(int)\n",
    "    \n",
    "    # Create additional features\n",
    "LM['Fitness'] = LM[['Acceleration', 'SprintSpeed', 'Agility', 'Reactions',\n",
    "                         'Balance', 'Jumping', 'Stamina', 'Strength', \n",
    "                         'Aggression', 'Vision']].sum(axis=1)\n",
    "    \n",
    "\n"
   ]
  },
  {
   "cell_type": "markdown",
   "metadata": {},
   "source": [
    "Potential Prediction Model"
   ]
  },
  {
   "cell_type": "code",
   "execution_count": 5,
   "metadata": {},
   "outputs": [
    {
     "name": "stdout",
     "output_type": "stream",
     "text": [
      "Player Potential : \n"
     ]
    },
    {
     "name": "stderr",
     "output_type": "stream",
     "text": [
      "C:\\Users\\goel6\\AppData\\Roaming\\Python\\Python312\\site-packages\\sklearn\\linear_model\\_ridge.py:216: LinAlgWarning: Ill-conditioned matrix (rcond=1.34972e-17): result may not be accurate.\n",
      "  return linalg.solve(A, Xy, assume_a=\"pos\", overwrite_a=True).T\n"
     ]
    },
    {
     "name": "stdout",
     "output_type": "stream",
     "text": [
      "Combined R^2 Test: 0.9201062665005812\n",
      "Combined R^2 Train: 0.9632602934637504\n"
     ]
    }
   ],
   "source": [
    "import CombinedModle\n",
    "\n",
    "# Define features and targets for potential prediction\n",
    "x_potential = LM.drop(['ID', 'Potential'], axis=1)\n",
    "y_potential = LM['Potential']\n",
    "\n",
    "# Ensure x_potential contains only numeric values\n",
    "x_potential = x_potential.select_dtypes(include=['number'])\n",
    "\n",
    "# Split data\n",
    "x_train_p, x_test_p, y_train_p, y_test_p = train_test_split(x_potential, y_potential, test_size=0.25, random_state=42)\n",
    "print(\"Player Potential : \")\n",
    "type='potential'\n",
    "Combine_test_p, Combine_train_p , LM = CombinedModle.train_and_evaluate(LM, type, x_train_p, y_train_p, x_test_p, y_test_p)\n",
    "\n"
   ]
  },
  {
   "cell_type": "markdown",
   "metadata": {},
   "source": [
    "Wage Prediction Model"
   ]
  },
  {
   "cell_type": "code",
   "execution_count": 6,
   "metadata": {},
   "outputs": [
    {
     "name": "stdout",
     "output_type": "stream",
     "text": [
      "\n",
      "Player Wage : \n",
      "Combined R^2 Test: 0.6578707518278537\n",
      "Combined R^2 Train: 0.9200965068848909\n"
     ]
    }
   ],
   "source": [
    "import CombinedModle\n",
    "\n",
    "\n",
    "x_Wage = LM[['International Reputation', 'Potential', 'Fitness', 'Skill Moves','Value']]\n",
    "y_Wage = LM['Wage']\n",
    "\n",
    "# Ensure x_Wage contains only numeric values\n",
    "x_Wage = x_Wage.select_dtypes(include=['number'])\n",
    "\n",
    "# Split data\n",
    "x_train_w, x_test_w, y_train_w, y_test_w = train_test_split(x_Wage, y_Wage, test_size=0.25, random_state=42)\n",
    "print(\"\\nPlayer Wage : \")\n",
    "type='wage'\n",
    "Combine_test_w, Combine_train_w, LM = CombinedModle.train_and_evaluate(LM, type, x_train_w, y_train_w, x_test_w, y_test_w)\n",
    "\n"
   ]
  },
  {
   "cell_type": "markdown",
   "metadata": {},
   "source": [
    "Filtering Top 10 Players"
   ]
  },
  {
   "cell_type": "code",
   "execution_count": 8,
   "metadata": {},
   "outputs": [
    {
     "name": "stdout",
     "output_type": "stream",
     "text": [
      "\n",
      "Top 10 Players' Information:\n",
      "    ID            Name  Age  Potential    Value   Wage  Preferred Foot  International Reputation  Weak Foot  Skill Moves  Position  Height  Weight  Crossing  Finishing  HeadingAccuracy  ShortPassing  Volleys  Dribbling  Curve  FKAccuracy  LongPassing  BallControl  Acceleration  SprintSpeed  Agility  Reactions  Balance  ShotPower  Jumping  Stamina  Strength  LongShots  Aggression  Interceptions  Vision  Penalties  Composure  Marking  StandingTackle  SlidingTackle  Fitness  PredictedPotential  PredictedWage\n",
      "215914        N. Kanté   27         90 63000000 225000               1                       3.0        3.0          2.0         2  167.64   72.12      68.0       65.0             54.0          86.0     56.0       79.0   49.0        49.0         81.0         80.0          82.0         78.0     82.0       93.0     92.0       71.0     77.0     96.0      76.0       69.0        90.0           92.0    79.0       54.0       85.0     90.0            91.0           85.0    845.0           89.008113  230735.303937\n",
      "201942 Roberto Firmino   26         87 53000000 195000               1                       3.0        4.0          4.0         0  180.34   76.20      72.0       87.0             77.0          86.0     81.0       87.0   80.0        65.0         75.0         88.0          78.0         77.0     80.0       86.0     81.0       81.0     81.0     90.0      74.0       76.0        73.0           58.0    85.0       72.0       87.0     60.0            64.0           42.0    805.0           89.005127  185910.923664\n",
      "216594        N. Fekir   24         89 50000000  92000               0                       3.0        3.0          4.0         0  172.72   74.84      83.0       82.0             49.0          83.0     77.0       90.0   81.0        79.0         75.0         89.0          79.0         79.0     90.0       80.0     91.0       84.0     69.0     80.0      82.0       82.0        73.0           28.0    81.0       81.0       89.0     31.0            37.0           25.0    804.0           88.496812  181342.685065\n",
      "213565        T. Lemar   22         89 35500000  64000               0                       3.0        2.0          4.0         3  170.18   62.14      83.0       75.0             54.0          84.0     78.0       85.0   85.0        81.0         75.0         86.0          86.0         84.0     87.0       80.0     86.0       79.0     71.0     79.0      63.0       76.0        63.0           66.0    85.0       68.0       80.0     55.0            59.0           63.0    784.0           88.136585  116539.252682\n",
      "209499         Fabinho   24         88 34000000 120000               1                       3.0        2.0          3.0         1  187.96   78.02      79.0       66.0             75.0          83.0     47.0       76.0   71.0        53.0         78.0         82.0          69.0         72.0     69.0       83.0     67.0       78.0     75.0     92.0      79.0       65.0        85.0           84.0    75.0       91.0       84.0     83.0            86.0           84.0    766.0           88.105420  114562.918684\n",
      "229906       L. Bailey   20         89 26500000  54000               0                       1.0        4.0          4.0         3  177.80   78.93      77.0       75.0             57.0          75.0     75.0       86.0   77.0        73.0         66.0         82.0          94.0         90.0     86.0       80.0     84.0       79.0     86.0     76.0      59.0       77.0        58.0           21.0    77.0       71.0       75.0     45.0            27.0           18.0    790.0           87.275150   48945.049795\n",
      "201995 Felipe Anderson   25         85 31500000 110000               1                       3.0        4.0          4.0         3  175.26   69.85      79.0       71.0             44.0          80.0     68.0       90.0   71.0        69.0         74.0         88.0          93.0         89.0     89.0       74.0     88.0       83.0     38.0     72.0      53.0       84.0        67.0           69.0    79.0       53.0       82.0     47.0            60.0           54.0    742.0           86.881207   96122.435708\n",
      "213345        K. Coman   22         87 34000000  85000               1                       2.0        3.0          5.0         3  177.80   71.21      81.0       76.0             52.0          77.0     77.0       88.0   84.0        70.0         63.0         83.0          95.0         93.0     87.0       81.0     84.0       77.0     75.0     76.0      61.0       73.0        36.0           23.0    75.0       70.0       75.0     29.0            17.0           15.0    763.0           86.810743   67789.645178\n",
      "200104          H. Son   25         85 37000000 125000               1                       3.0        5.0          4.0         3  182.88   64.86      78.0       85.0             65.0          79.0     79.0       88.0   81.0        70.0         64.0         85.0          88.0         87.0     82.0       84.0     76.0       86.0     63.0     85.0      63.0       88.0        60.0           39.0    80.0       71.0       82.0     48.0            34.0           33.0    768.0           86.761982  155998.485265\n",
      "201400         Rafinha   25         87 29500000 165000               0                       2.0        4.0          4.0         0  175.26   71.21      72.0       73.0             55.0          86.0     76.0       87.0   75.0        61.0         76.0         84.0          71.0         70.0     80.0       79.0     80.0       79.0     73.0     67.0      66.0       82.0        44.0           70.0    81.0       67.0       80.0     68.0            74.0           66.0    711.0           86.690463   66651.873792\n"
     ]
    }
   ],
   "source": [
    "\n",
    "# Get the top 10 players based on predicted potential\n",
    "top_players = LM.nlargest(10, 'PredictedPotential')\n",
    "    \n",
    "# Display the top players' information in a table format\n",
    "print(\"\\nTop 10 Players' Information:\")\n",
    "print(top_players.to_string(index=False))\n",
    "data= top_players"
   ]
  }
 ],
 "metadata": {
  "kernelspec": {
   "display_name": "Python 3",
   "language": "python",
   "name": "python3"
  },
  "language_info": {
   "codemirror_mode": {
    "name": "ipython",
    "version": 3
   },
   "file_extension": ".py",
   "mimetype": "text/x-python",
   "name": "python",
   "nbconvert_exporter": "python",
   "pygments_lexer": "ipython3",
   "version": "3.12.3"
  }
 },
 "nbformat": 4,
 "nbformat_minor": 2
}
