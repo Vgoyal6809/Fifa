{
 "cells": [
  {
   "cell_type": "markdown",
   "metadata": {},
   "source": [
    "1. Import Libraries"
   ]
  },
  {
   "cell_type": "code",
   "execution_count": 43,
   "metadata": {},
   "outputs": [],
   "source": [
    "import pandas as pd\n",
    "from sklearn.model_selection import train_test_split, GridSearchCV\n",
    "from sklearn.metrics import r2_score\n",
    "from sklearn.ensemble import RandomForestRegressor\n",
    "import xgboost as xgb\n",
    "from sklearn.linear_model import Ridge\n",
    "from sklearn.preprocessing import LabelEncoder\n",
    "from xgboost import XGBRegressor\n"
   ]
  },
  {
   "cell_type": "markdown",
   "metadata": {},
   "source": [
    "2. Data Cleaning Functions"
   ]
  },
  {
   "cell_type": "code",
   "execution_count": 44,
   "metadata": {},
   "outputs": [],
   "source": [
    "def clean_data(df):\n",
    "    # Drop unnecessary columns\n",
    "    df = df.drop(['Nationality', 'Overall', 'Club', 'Work Rate', 'Body Type',\n",
    "                  'Jersey Number', 'Joined', 'Loaned From', 'Contract Valid Until',\n",
    "                  'GKDiving', 'GKHandling', 'GKKicking', 'GKPositioning', \n",
    "                  'GKReflexes', 'Release Clause', 'Positioning'], axis=1)\n",
    "\n",
    "    # Convert categorical features\n",
    "    label_encoder = LabelEncoder()\n",
    "    df['Preferred Foot'] = label_encoder.fit_transform(df['Preferred Foot'])\n",
    "    df['Position'] = label_encoder.fit_transform(df['Position'])\n",
    "    \n",
    "    return df\n"
   ]
  },
  {
   "cell_type": "markdown",
   "metadata": {},
   "source": [
    "3. Conversion Functions"
   ]
  },
  {
   "cell_type": "code",
   "execution_count": 45,
   "metadata": {},
   "outputs": [],
   "source": [
    "def convert_height_to_cm(height):\n",
    "    try:\n",
    "        feet, inches = map(int, height.split(\"'\"))\n",
    "        total_inches = feet * 12 + inches\n",
    "        return round(total_inches * 2.54, 2)\n",
    "    except Exception:\n",
    "        return None\n",
    "\n",
    "def convert_weight_to_kg(weight):\n",
    "    try:\n",
    "        return round(float(weight.replace('lbs', '').strip()) * 0.453592, 2)\n",
    "    except Exception:\n",
    "        return None\n",
    "\n",
    "def convert_value_wage(value):\n",
    "    if value[-1] == 'M':\n",
    "        return float(value[1:-1]) * 1e6\n",
    "    elif value[-1] == 'K':\n",
    "        return float(value[1:-1]) * 1e3\n",
    "    return float(value[1:])\n"
   ]
  },
  {
   "cell_type": "code",
   "execution_count": 46,
   "metadata": {},
   "outputs": [],
   "source": [
    "def prepare_data_for_model(data):\n",
    "    # Drop non-numeric columns\n",
    "    data = data.drop(['Name'], axis=1, errors='ignore')  # Drop 'Name' if it exists\n",
    "    return data\n"
   ]
  },
  {
   "cell_type": "markdown",
   "metadata": {},
   "source": [
    "4. Feature Engineering Functions"
   ]
  },
  {
   "cell_type": "code",
   "execution_count": 47,
   "metadata": {},
   "outputs": [],
   "source": [
    "def feature_engineering(df):\n",
    "    df['Height'] = df['Height'].apply(convert_height_to_cm)\n",
    "    df['Weight'] = df['Weight'].apply(convert_weight_to_kg)\n",
    "    df['Value'] = df['Value'].apply(convert_value_wage).astype(int)\n",
    "    df['Wage'] = df['Wage'].apply(convert_value_wage).astype(int)\n",
    "    \n",
    "    # Create additional features\n",
    "    df['Fitness'] = df[['Acceleration', 'SprintSpeed', 'Agility', 'Reactions',\n",
    "                         'Balance', 'Jumping', 'Stamina', 'Strength', \n",
    "                         'Aggression', 'Vision']].sum(axis=1)\n",
    "    \n",
    "    return df\n"
   ]
  },
  {
   "cell_type": "markdown",
   "metadata": {},
   "source": [
    "5. Model Training Functions"
   ]
  },
  {
   "cell_type": "code",
   "execution_count": 48,
   "metadata": {},
   "outputs": [],
   "source": [
    "def train_xgboost_model(x_train, y_train):\n",
    "    xgboost_model = xgb.XGBRegressor(objective='reg:squarederror')\n",
    "    param_grid = {\n",
    "        'n_estimators': [200],\n",
    "        'learning_rate': [0.05],\n",
    "        'max_depth': [7],\n",
    "        'subsample': [0.6],\n",
    "        'colsample_bytree': [1.0],\n",
    "        'reg_alpha': [0.1],\n",
    "        'reg_lambda': [1.5]\n",
    "    }\n",
    "    \n",
    "    grid_search = GridSearchCV(xgboost_model, param_grid, cv=5, scoring='r2', n_jobs=-1)\n",
    "    grid_search.fit(x_train, y_train)\n",
    "    \n",
    "    return grid_search.best_estimator_\n",
    "\n",
    "def train_random_forest_model(x_train, y_train):\n",
    "    rf_model = RandomForestRegressor()\n",
    "    rf_model.fit(x_train, y_train)\n",
    "    return rf_model\n",
    "\n",
    "def train_ridge_model(x_train, y_train):\n",
    "    ridge_model = Ridge()\n",
    "    ridge_model.fit(x_train, y_train)\n",
    "    return ridge_model\n"
   ]
  },
  {
   "cell_type": "markdown",
   "metadata": {},
   "source": [
    "6. Main Program Logic"
   ]
  },
  {
   "cell_type": "markdown",
   "metadata": {},
   "source": [
    "Part 1: Predicting Potential"
   ]
  },
  {
   "cell_type": "code",
   "execution_count": 49,
   "metadata": {},
   "outputs": [
    {
     "name": "stdout",
     "output_type": "stream",
     "text": [
      "XGBoost Potential Test R2: 0.9193024635314941\n",
      "Random Forest Potential Test R2: 0.9077495966342167\n",
      "Ridge Potential Test R2: 0.7701605974289529\n",
      "Hybrid Potential Test R2: 0.8974249208412445\n"
     ]
    },
    {
     "name": "stderr",
     "output_type": "stream",
     "text": [
      "c:\\Users\\dhira\\Fifa\\myenv\\Lib\\site-packages\\sklearn\\linear_model\\_ridge.py:216: LinAlgWarning: Ill-conditioned matrix (rcond=6.15627e-17): result may not be accurate.\n",
      "  return linalg.solve(A, Xy, assume_a=\"pos\", overwrite_a=True).T\n"
     ]
    }
   ],
   "source": [
    "def main():\n",
    "    # Load the dataset\n",
    "    LB = pd.read_csv(\"LB_position.csv\")\n",
    "\n",
    "    # Clean the data\n",
    "    LB = clean_data(LB)\n",
    "    LB = feature_engineering(LB)\n",
    "\n",
    "    # Define features and targets for potential prediction\n",
    "    x_potential = LB.drop(['ID', 'Potential'], axis=1)\n",
    "    y_potential = LB['Potential']\n",
    "\n",
    "    # Ensure x_potential contains only numeric values\n",
    "    x_potential = x_potential.select_dtypes(include=['number'])\n",
    "\n",
    "    # Split data\n",
    "    x_train_p, x_test_p, y_train_p, y_test_p = train_test_split(x_potential, y_potential, test_size=0.25, random_state=42)\n",
    "\n",
    "    # Train models for potential prediction\n",
    "    best_xgboost_model = train_xgboost_model(x_train_p, y_train_p)\n",
    "    rf_model = train_random_forest_model(x_train_p, y_train_p)\n",
    "    ridge_model = train_ridge_model(x_train_p, y_train_p)\n",
    "\n",
    "    # Make predictions for potential\n",
    "    pred_xgboost_p = best_xgboost_model.predict(x_test_p)\n",
    "    pred_rf_p = rf_model.predict(x_test_p)\n",
    "    pred_ridge_p = ridge_model.predict(x_test_p)\n",
    "\n",
    "    # Hybrid prediction for potential\n",
    "    hybrid_pred_p = predict_hybrid_model([pred_xgboost_p, pred_rf_p, pred_ridge_p])\n",
    "\n",
    "    # Calculate R2 scores for potential\n",
    "    print(f'XGBoost Potential Test R2: {r2_score(y_test_p, pred_xgboost_p)}')\n",
    "    print(f'Random Forest Potential Test R2: {r2_score(y_test_p, pred_rf_p)}')\n",
    "    print(f'Ridge Potential Test R2: {r2_score(y_test_p, pred_ridge_p)}')\n",
    "    print(f'Hybrid Potential Test R2: {r2_score(y_test_p, hybrid_pred_p)}')\n",
    "\n",
    "    LB.loc[x_test_p.index, 'Predicted Potential'] = hybrid_pred_p\n",
    "\n",
    "if __name__ == \"__main__\":\n",
    "    main()\n",
    "    \n"
   ]
  },
  {
   "cell_type": "markdown",
   "metadata": {},
   "source": [
    "Part 2: Predicting Value"
   ]
  },
  {
   "cell_type": "code",
   "execution_count": 50,
   "metadata": {},
   "outputs": [
    {
     "name": "stdout",
     "output_type": "stream",
     "text": [
      "XGBoost Value Test R2: 0.7490930557250977\n",
      "Random Forest Value Test R2: 0.7358263868758599\n",
      "Ridge Value Test R2: 0.5183634767244403\n",
      "Hybrid Value Test R2: 0.7815672523647325\n"
     ]
    }
   ],
   "source": [
    "# Define features and targets for value prediction\n",
    "def main():\n",
    "    # Load the dataset\n",
    "    LB = pd.read_csv(\"LB_position.csv\")\n",
    "\n",
    "    # Clean the data\n",
    "    LB = clean_data(LB)\n",
    "    LB = feature_engineering(LB)\n",
    "\n",
    "    x_value = LB[['International Reputation', 'Potential', 'Fitness', 'Skill Moves']]\n",
    "    y_value = LB['Value']\n",
    "\n",
    "    # Ensure x_value contains only numeric values\n",
    "    x_value = x_value.select_dtypes(include=['number'])\n",
    "\n",
    "    # Split data\n",
    "    x_train_v, x_test_v, y_train_v, y_test_v = train_test_split(x_value, y_value, test_size=0.25, random_state=42)\n",
    "\n",
    "    # Train models for value prediction\n",
    "    best_xgboost_model_value = train_xgboost_model(x_train_v, y_train_v)\n",
    "    rf_model_value = train_random_forest_model(x_train_v, y_train_v)\n",
    "    ridge_model_value = train_ridge_model(x_train_v, y_train_v)\n",
    "\n",
    "    # Make predictions for value\n",
    "    pred_xgboost_v = best_xgboost_model_value.predict(x_test_v)\n",
    "    pred_rf_v = rf_model_value.predict(x_test_v)\n",
    "    pred_ridge_v = ridge_model_value.predict(x_test_v)\n",
    "\n",
    "    # Hybrid prediction for value\n",
    "    hybrid_pred_v = predict_hybrid_model([pred_xgboost_v, pred_rf_v, pred_ridge_v])\n",
    "\n",
    "    # Calculate R2 scores for value\n",
    "    print(f'XGBoost Value Test R2: {r2_score(y_test_v, pred_xgboost_v)}')\n",
    "    print(f'Random Forest Value Test R2: {r2_score(y_test_v, pred_rf_v)}')\n",
    "    print(f'Ridge Value Test R2: {r2_score(y_test_v, pred_ridge_v)}')\n",
    "    print(f'Hybrid Value Test R2: {r2_score(y_test_v, hybrid_pred_v)}')\n",
    "\n",
    "    # Add Predicted Value to the DataFrame\n",
    "    LB.loc[x_test_v.index, 'Predicted Value'] = hybrid_pred_v\n",
    "\n",
    "    return LB  # Return the DataFrame with predictions\n",
    "\n",
    "if __name__ == \"__main__\":\n",
    "    main()\n"
   ]
  },
  {
   "cell_type": "code",
   "execution_count": 51,
   "metadata": {},
   "outputs": [
    {
     "name": "stdout",
     "output_type": "stream",
     "text": [
      "Top Player's Information:\n",
      "ID                                  236295\n",
      "Name                          Aarón Martín\n",
      "Age                                     21\n",
      "Potential                               85\n",
      "Value                           11000000.0\n",
      "Wage                                  €18K\n",
      "Preferred Foot                           0\n",
      "International Reputation               1.0\n",
      "Weak Foot                              3.0\n",
      "Skill Moves                            3.0\n",
      "Position                                 0\n",
      "Height                                5'11\n",
      "Weight                              159lbs\n",
      "Crossing                              76.0\n",
      "Finishing                             33.0\n",
      "HeadingAccuracy                       73.0\n",
      "ShortPassing                          76.0\n",
      "Volleys                               21.0\n",
      "Dribbling                             71.0\n",
      "Curve                                 62.0\n",
      "FKAccuracy                            54.0\n",
      "LongPassing                           61.0\n",
      "BallControl                           75.0\n",
      "Acceleration                          76.0\n",
      "SprintSpeed                           69.0\n",
      "Agility                               68.0\n",
      "Reactions                             77.0\n",
      "Balance                               67.0\n",
      "ShotPower                             55.0\n",
      "Jumping                               61.0\n",
      "Stamina                               77.0\n",
      "Strength                              60.0\n",
      "LongShots                             28.0\n",
      "Aggression                            60.0\n",
      "Interceptions                         78.0\n",
      "Vision                                59.0\n",
      "Penalties                             43.0\n",
      "Composure                             70.0\n",
      "Marking                               78.0\n",
      "StandingTackle                        78.0\n",
      "SlidingTackle                         76.0\n",
      "Fitness                              674.0\n",
      "Predicted Potential              83.371614\n",
      "Predicted Value             5611825.279202\n"
     ]
    }
   ],
   "source": [
    "\n",
    "\n",
    "def display_top_player_info(LB):\n",
    "    # Get the top player based on predicted potential\n",
    "    top_player = LB.loc[LB['Predicted Potential'].idxmax()]\n",
    "    print(\"Top Player's Information:\")\n",
    "    print(top_player.to_string())  # This prints all columns for the top player without the index\n",
    "\n",
    "if __name__ == \"__main__\":\n",
    "\n",
    "    # Now you can display the top player's information\n",
    "    display_top_player_info(LB)\n",
    "\n"
   ]
  }
 ],
 "metadata": {
  "kernelspec": {
   "display_name": "Python 3",
   "language": "python",
   "name": "python3"
  },
  "language_info": {
   "codemirror_mode": {
    "name": "ipython",
    "version": 3
   },
   "file_extension": ".py",
   "mimetype": "text/x-python",
   "name": "python",
   "nbconvert_exporter": "python",
   "pygments_lexer": "ipython3",
   "version": "3.12.3"
  }
 },
 "nbformat": 4,
 "nbformat_minor": 2
}
