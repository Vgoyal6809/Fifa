{
 "cells": [
  {
   "cell_type": "markdown",
   "metadata": {},
   "source": [
    "1. Import Libraries"
   ]
  },
  {
   "cell_type": "code",
   "execution_count": 68,
   "metadata": {},
   "outputs": [],
   "source": [
    "import pandas as pd\n",
    "from sklearn.model_selection import train_test_split, GridSearchCV\n",
    "from sklearn.metrics import r2_score\n",
    "from sklearn.ensemble import RandomForestRegressor\n",
    "import xgboost as xgb\n",
    "from sklearn.linear_model import Ridge\n",
    "from sklearn.preprocessing import LabelEncoder\n",
    "from xgboost import XGBRegressor\n"
   ]
  },
  {
   "cell_type": "markdown",
   "metadata": {},
   "source": [
    "2. Data Cleaning Functions"
   ]
  },
  {
   "cell_type": "code",
   "execution_count": 69,
   "metadata": {},
   "outputs": [],
   "source": [
    "def clean_data(df):\n",
    "    # Drop unnecessary columns\n",
    "    df = df.drop(['Nationality', 'Overall', 'Club', 'Work Rate', 'Body Type',\n",
    "                  'Jersey Number', 'Joined', 'Loaned From', 'Contract Valid Until',\n",
    "                  'GKDiving', 'GKHandling', 'GKKicking', 'GKPositioning', \n",
    "                  'GKReflexes', 'Release Clause', 'Positioning'], axis=1)\n",
    "\n",
    "    # Convert categorical features\n",
    "    label_encoder = LabelEncoder()\n",
    "    df['Preferred Foot'] = label_encoder.fit_transform(df['Preferred Foot'])\n",
    "    df['Position'] = label_encoder.fit_transform(df['Position'])\n",
    "    \n",
    "    return df\n"
   ]
  },
  {
   "cell_type": "markdown",
   "metadata": {},
   "source": [
    "3. Conversion Functions"
   ]
  },
  {
   "cell_type": "code",
   "execution_count": 70,
   "metadata": {},
   "outputs": [],
   "source": [
    "def convert_height_to_cm(height):\n",
    "    try:\n",
    "        feet, inches = map(int, height.split(\"'\"))\n",
    "        total_inches = feet * 12 + inches\n",
    "        return round(total_inches * 2.54, 2)\n",
    "    except Exception:\n",
    "        return None\n",
    "\n",
    "def convert_weight_to_kg(weight):\n",
    "    try:\n",
    "        return round(float(weight.replace('lbs', '').strip()) * 0.453592, 2)\n",
    "    except Exception:\n",
    "        return None\n",
    "\n",
    "def convert_value_wage(value):\n",
    "    if value[-1] == 'M':\n",
    "        return float(value[1:-1]) * 1e6\n",
    "    elif value[-1] == 'K':\n",
    "        return float(value[1:-1]) * 1e3\n",
    "    return float(value[1:])\n"
   ]
  },
  {
   "cell_type": "code",
   "execution_count": 71,
   "metadata": {},
   "outputs": [],
   "source": [
    "def prepare_data_for_model(data):\n",
    "    # Drop non-numeric columns\n",
    "    data = data.drop(['Name'], axis=1, errors='ignore')  # Drop 'Name' if it exists\n",
    "    return data\n"
   ]
  },
  {
   "cell_type": "markdown",
   "metadata": {},
   "source": [
    "4. Feature Engineering Functions"
   ]
  },
  {
   "cell_type": "code",
   "execution_count": 72,
   "metadata": {},
   "outputs": [],
   "source": [
    "def feature_engineering(df):\n",
    "    df['Height'] = df['Height'].apply(convert_height_to_cm)\n",
    "    df['Weight'] = df['Weight'].apply(convert_weight_to_kg)\n",
    "    df['Value'] = df['Value'].apply(convert_value_wage).astype(int)\n",
    "    df['Wage'] = df['Wage'].apply(convert_value_wage).astype(int)\n",
    "    \n",
    "    # Create additional features\n",
    "    df['Fitness'] = df[['Acceleration', 'SprintSpeed', 'Agility', 'Reactions',\n",
    "                         'Balance', 'Jumping', 'Stamina', 'Strength', \n",
    "                         'Aggression', 'Vision']].sum(axis=1)\n",
    "    \n",
    "    return df\n"
   ]
  },
  {
   "cell_type": "markdown",
   "metadata": {},
   "source": [
    "5. Model Training Functions"
   ]
  },
  {
   "cell_type": "code",
   "execution_count": 73,
   "metadata": {},
   "outputs": [],
   "source": [
    "def train_xgboost_model(x_train, y_train):\n",
    "    xgboost_model = xgb.XGBRegressor(objective='reg:squarederror')\n",
    "    param_grid = {\n",
    "        'n_estimators': [200],\n",
    "        'learning_rate': [0.05],\n",
    "        'max_depth': [7],\n",
    "        'subsample': [0.6],\n",
    "        'colsample_bytree': [1.0],\n",
    "        'reg_alpha': [0.1],\n",
    "        'reg_lambda': [1.5]\n",
    "    }\n",
    "    \n",
    "    grid_search = GridSearchCV(xgboost_model, param_grid, cv=5, scoring='r2', n_jobs=-1)\n",
    "    grid_search.fit(x_train, y_train)\n",
    "    \n",
    "    return grid_search.best_estimator_\n",
    "\n",
    "def train_random_forest_model(x_train, y_train):\n",
    "    rf_model = RandomForestRegressor()\n",
    "    rf_model.fit(x_train, y_train)\n",
    "    return rf_model\n",
    "\n",
    "def train_ridge_model(x_train, y_train):\n",
    "    ridge_model = Ridge()\n",
    "    ridge_model.fit(x_train, y_train)\n",
    "    return ridge_model\n"
   ]
  },
  {
   "cell_type": "markdown",
   "metadata": {},
   "source": [
    "6. Main Program Logic"
   ]
  },
  {
   "cell_type": "markdown",
   "metadata": {},
   "source": [
    "Part 1: Predicting Potential"
   ]
  },
  {
   "cell_type": "code",
   "execution_count": 74,
   "metadata": {},
   "outputs": [
    {
     "name": "stdout",
     "output_type": "stream",
     "text": [
      "XGBoost Potential Test R2: 0.9193024635314941\n",
      "Random Forest Potential Test R2: 0.9102804473410151\n",
      "Ridge Potential Test R2: 0.7701605974289529\n",
      "Hybrid Potential Test R2: 0.8978394819572967\n"
     ]
    },
    {
     "name": "stderr",
     "output_type": "stream",
     "text": [
      "c:\\Users\\dhira\\Fifa\\myenv\\Lib\\site-packages\\sklearn\\linear_model\\_ridge.py:216: LinAlgWarning: Ill-conditioned matrix (rcond=6.15627e-17): result may not be accurate.\n",
      "  return linalg.solve(A, Xy, assume_a=\"pos\", overwrite_a=True).T\n"
     ]
    }
   ],
   "source": [
    "def main():\n",
    "    # Load the dataset\n",
    "    LB = pd.read_csv(\"LB_position.csv\")\n",
    "\n",
    "    # Clean the data\n",
    "    LB = clean_data(LB)\n",
    "    LB = feature_engineering(LB)\n",
    "\n",
    "    # Define features and targets for potential prediction\n",
    "    x_potential = LB.drop(['ID', 'Potential'], axis=1)\n",
    "    y_potential = LB['Potential']\n",
    "\n",
    "    # Ensure x_potential contains only numeric values\n",
    "    x_potential = x_potential.select_dtypes(include=['number'])\n",
    "\n",
    "    # Split data\n",
    "    x_train_p, x_test_p, y_train_p, y_test_p = train_test_split(x_potential, y_potential, test_size=0.25, random_state=42)\n",
    "\n",
    "    # Train models for potential prediction\n",
    "    best_xgboost_model = train_xgboost_model(x_train_p, y_train_p)\n",
    "    rf_model = train_random_forest_model(x_train_p, y_train_p)\n",
    "    ridge_model = train_ridge_model(x_train_p, y_train_p)\n",
    "\n",
    "    # Make predictions for potential\n",
    "    pred_xgboost_p = best_xgboost_model.predict(x_test_p)\n",
    "    pred_rf_p = rf_model.predict(x_test_p)\n",
    "    pred_ridge_p = ridge_model.predict(x_test_p)\n",
    "\n",
    "    # Hybrid prediction for potential\n",
    "    hybrid_pred_p = (pred_xgboost_p + pred_rf_p + pred_ridge_p) / 3\n",
    "\n",
    "    # Calculate R2 scores for potential\n",
    "    print(f'XGBoost Potential Test R2: {r2_score(y_test_p, pred_xgboost_p)}')\n",
    "    print(f'Random Forest Potential Test R2: {r2_score(y_test_p, pred_rf_p)}')\n",
    "    print(f'Ridge Potential Test R2: {r2_score(y_test_p, pred_ridge_p)}')\n",
    "    print(f'Hybrid Potential Test R2: {r2_score(y_test_p, hybrid_pred_p)}')\n",
    "\n",
    "    \n",
    "  # Add predictions to DataFrame\n",
    "    LB.loc[x_test_p.index, 'Predicted Potential'] = hybrid_pred_p\n",
    "\n",
    "if __name__ == \"__main__\":\n",
    "    main()\n",
    "    \n"
   ]
  },
  {
   "cell_type": "markdown",
   "metadata": {},
   "source": [
    "Part 2: Predicting Value"
   ]
  },
  {
   "cell_type": "code",
   "execution_count": 75,
   "metadata": {},
   "outputs": [
    {
     "name": "stdout",
     "output_type": "stream",
     "text": [
      "XGBoost Wage Test R2: 0.6931073665618896\n",
      "Random Forest Wage Test R2: 0.6688459763279542\n",
      "Ridge Wage Test R2: 0.7034301313577702\n",
      "Hybrid Wage Test R2: 0.7191279040448988\n"
     ]
    }
   ],
   "source": [
    "# Define features and targets for value prediction\n",
    "def main():\n",
    "    # Load the dataset\n",
    "    LB = pd.read_csv(\"LB_position.csv\")\n",
    "\n",
    "    # Clean the data\n",
    "    LB = clean_data(LB)\n",
    "    LB = feature_engineering(LB)\n",
    "\n",
    "    x_Wage = LB[['International Reputation', 'Potential', 'Fitness', 'Skill Moves','Value']]\n",
    "    y_Wage = LB['Wage']\n",
    "\n",
    "    # Ensure x_Wage contains only numeric values\n",
    "    x_Wage = x_Wage.select_dtypes(include=['number'])\n",
    "\n",
    "    # Split data\n",
    "    x_train_w, x_test_w, y_train_w, y_test_w = train_test_split(x_Wage, y_Wage, test_size=0.25, random_state=42)\n",
    "\n",
    "    # Train models for Wage prediction\n",
    "    best_xgboost_model_value = train_xgboost_model(x_train_w, y_train_w)\n",
    "    rf_model_value = train_random_forest_model(x_train_w, y_train_w)\n",
    "    ridge_model_value = train_ridge_model(x_train_w, y_train_w)\n",
    "\n",
    "    # Make predictions for Wage\n",
    "    pred_xgboost_w = best_xgboost_model_value.predict(x_test_w)\n",
    "    pred_rf_w = rf_model_value.predict(x_test_w)\n",
    "    pred_ridge_w = ridge_model_value.predict(x_test_w)\n",
    "\n",
    "    # Hybrid prediction for Wage\n",
    "    hybrid_pred_w = (pred_xgboost_w + pred_rf_w + pred_ridge_w) / 3\n",
    "\n",
    "    # Calculate R2 scores for Wage\n",
    "    print(f'XGBoost Wage Test R2: {r2_score(y_test_w, pred_xgboost_w)}')\n",
    "    print(f'Random Forest Wage Test R2: {r2_score(y_test_w, pred_rf_w)}')\n",
    "    print(f'Ridge Wage Test R2: {r2_score(y_test_w, pred_ridge_w)}')\n",
    "    print(f'Hybrid Wage Test R2: {r2_score(y_test_w, hybrid_pred_w)}')\n",
    "\n",
    "    # Add Predicted Wage to the DataFrame\n",
    "    LB.loc[x_test_w.index, 'Predicted Wage'] = hybrid_pred_w\n",
    "    return LB  # Return the DataFrame with predictions\n",
    "\n",
    "if __name__ == \"__main__\":\n",
    "    main()\n"
   ]
  },
  {
   "cell_type": "code",
   "execution_count": 76,
   "metadata": {},
   "outputs": [
    {
     "name": "stdout",
     "output_type": "stream",
     "text": [
      "Top 10 Players' Information:\n",
      "    ID         Name  Age  Potential    Value  Wage  Preferred Foot  International Reputation  Weak Foot  Skill Moves  Position  Height  Weight  Crossing  Finishing  HeadingAccuracy  ShortPassing  Volleys  Dribbling  Curve  FKAccuracy  LongPassing  BallControl  Acceleration  SprintSpeed  Agility  Reactions  Balance  ShotPower  Jumping  Stamina  Strength  LongShots  Aggression  Interceptions  Vision  Penalties  Composure  Marking  StandingTackle  SlidingTackle  Fitness  Predicted Potential  Predicted Wage\n",
      "236295 Aarón Martín   21         85 11000000 18000               0                       1.0        3.0          3.0         0  180.34   72.12      76.0       33.0             73.0          76.0     21.0       71.0   62.0        54.0         61.0         75.0          76.0         69.0     68.0       77.0     67.0       55.0     61.0     77.0      60.0       28.0        60.0           78.0    59.0       43.0       70.0     78.0            78.0           76.0    674.0            83.621675    48758.138489\n",
      "193352 R. Rodríguez   25         83 15500000 81000               0                       3.0        3.0          4.0         0  180.34   77.11      86.0       59.0             64.0          78.0     67.0       76.0   82.0        84.0         78.0         78.0          73.0         73.0     73.0       80.0     70.0       78.0     73.0     77.0      75.0       72.0        75.0           80.0    74.0       83.0       80.0     80.0            78.0           78.0    743.0            83.444103    67432.089827\n",
      "240976  M. Saracchi   20         85  9500000 27000               0                       1.0        3.0          3.0         0  172.72   68.95      76.0       64.0             68.0          74.0     48.0       73.0   50.0        61.0         70.0         72.0          87.0         83.0     77.0       71.0     78.0       71.0     76.0     79.0      68.0       68.0        77.0           66.0    71.0       53.0       72.0     75.0            70.0           72.0    767.0            82.948822    39327.279980\n",
      "210455        Jonny   24         83 13500000 43000               1                       2.0        3.0          3.0         1  170.18   69.85      77.0       34.0             70.0          73.0     44.0       73.0   60.0        54.0         59.0         76.0          77.0         78.0     72.0       71.0     78.0       66.0     75.0     83.0      64.0       45.0        82.0           80.0    55.0       46.0       70.0     77.0            79.0           82.0    735.0            82.823028    66066.948715\n",
      "207993 S. Kolašinac   25         82 13000000 89000               0                       2.0        2.0          3.0         0  182.88   84.82      77.0       59.0             74.0          76.0     48.0       73.0   43.0        25.0         53.0         74.0          68.0         75.0     49.0       77.0     55.0       82.0     76.0     79.0      90.0       58.0        93.0           73.0    60.0       44.0       72.0     73.0            81.0           80.0    722.0            81.982325    66789.239744\n",
      "235634     G. Konan   22         81  7500000 14000               0                       1.0        3.0          3.0         0  175.26   71.21      71.0       43.0             60.0          71.0     58.0       78.0   73.0        32.0         64.0         76.0          85.0         79.0     77.0       74.0     75.0       57.0     69.0     90.0      66.0       46.0        70.0           71.0    67.0       41.0       77.0     67.0            75.0           69.0    752.0            81.379569    22176.951200\n",
      "213400    D. Laxalt   25         80 12500000 76000               0                       2.0        3.0          4.0         0  177.80   68.04      78.0       60.0             43.0          78.0     49.0       77.0   61.0        60.0         74.0         78.0          86.0         90.0     85.0       72.0     77.0       74.0     65.0     93.0      60.0       66.0        72.0           64.0    68.0       49.0       76.0     64.0            64.0           68.0    768.0            81.297426    73389.530382\n",
      "216466      Wendell   24         80  9500000 43000               0                       2.0        2.0          4.0         0  177.80   72.12      78.0       37.0             53.0          77.0     29.0       79.0   66.0        75.0         65.0         78.0          87.0         79.0     78.0       75.0     77.0       60.0     68.0     77.0      64.0       59.0        87.0           75.0    69.0       67.0       72.0     72.0            75.0           80.0    761.0            81.165234    47084.564797\n",
      "219681     J. Amavi   24         82 10000000 34000               0                       1.0        4.0          3.0         0  175.26   69.85      79.0       60.0             64.0          74.0     59.0       73.0   74.0        49.0         66.0         76.0          78.0         80.0     75.0       76.0     76.0       76.0     82.0     78.0      70.0       68.0        72.0           73.0    70.0       65.0       67.0     72.0            75.0           77.0    757.0            80.627612    23602.645107\n",
      "204614    Mário Rui   27         80 11500000 60000               0                       2.0        3.0          3.0         0  170.18   67.13      79.0       27.0             60.0          76.0     53.0       79.0   68.0        66.0         72.0         76.0          88.0         83.0     88.0       78.0     89.0       69.0     92.0     91.0      54.0       73.0        73.0           77.0    64.0       60.0       73.0     71.0            76.0           76.0    800.0            80.599491    46103.406751\n"
     ]
    }
   ],
   "source": [
    "\n",
    "\n",
    "def display_top_player_info(LB):\n",
    "    # Get the top 10 players based on predicted potential\n",
    "    top_players = LB.nlargest(10, 'Predicted Potential')\n",
    "    \n",
    "    # Display the top players' information in a table format\n",
    "    print(\"Top 10 Players' Information:\")\n",
    "    print(top_players.to_string(index=False))\n",
    "\n",
    "if __name__ == \"__main__\":\n",
    "    # Now you can display the top players' information\n",
    "    display_top_player_info(LB)\n"
   ]
  }
 ],
 "metadata": {
  "kernelspec": {
   "display_name": "Python 3",
   "language": "python",
   "name": "python3"
  },
  "language_info": {
   "codemirror_mode": {
    "name": "ipython",
    "version": 3
   },
   "file_extension": ".py",
   "mimetype": "text/x-python",
   "name": "python",
   "nbconvert_exporter": "python",
   "pygments_lexer": "ipython3",
   "version": "3.12.3"
  }
 },
 "nbformat": 4,
 "nbformat_minor": 2
}
