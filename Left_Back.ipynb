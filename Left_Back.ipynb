{
 "cells": [
  {
   "cell_type": "markdown",
   "metadata": {},
   "source": [
    "1. Import Libraries"
   ]
  },
  {
   "cell_type": "code",
   "execution_count": 6,
   "metadata": {},
   "outputs": [],
   "source": [
    "import pandas as pd\n",
    "from sklearn.model_selection import train_test_split\n",
    "from sklearn.preprocessing import LabelEncoder"
   ]
  },
  {
   "cell_type": "markdown",
   "metadata": {},
   "source": [
    "2. Reading File\n"
   ]
  },
  {
   "cell_type": "code",
   "execution_count": 7,
   "metadata": {},
   "outputs": [],
   "source": [
    "LB = pd.read_csv(\"LB_position.csv\")"
   ]
  },
  {
   "cell_type": "markdown",
   "metadata": {},
   "source": [
    "3. Selecting Features"
   ]
  },
  {
   "cell_type": "code",
   "execution_count": 8,
   "metadata": {},
   "outputs": [],
   "source": [
    "\n",
    "# Drop unnecessary columns\n",
    "LB = LB.drop(['Nationality', 'Overall', 'Club', 'Work Rate', 'Body Type',\n",
    "                  'Jersey Number', 'Joined', 'Loaned From', 'Contract Valid Until',\n",
    "                  'GKDiving', 'GKHandling', 'GKKicking', 'GKPositioning', \n",
    "                  'GKReflexes', 'Release Clause', 'Positioning'], axis=1)\n",
    "\n",
    "# Convert categorical features\n",
    "label_encoder = LabelEncoder()\n",
    "LB['Preferred Foot'] = label_encoder.fit_transform(LB['Preferred Foot'])\n",
    "LB['Position'] = label_encoder.fit_transform(LB['Position'])\n",
    "    \n"
   ]
  },
  {
   "cell_type": "markdown",
   "metadata": {},
   "source": [
    "4. Feature Engineering Functions"
   ]
  },
  {
   "cell_type": "code",
   "execution_count": 9,
   "metadata": {},
   "outputs": [],
   "source": [
    "import NormalizeValue\n",
    "\n",
    "LB['Height'] = LB['Height'].apply(NormalizeValue.convert_height_to_cm)\n",
    "LB['Weight'] = LB['Weight'].apply(NormalizeValue.convert_weight_to_kg)\n",
    "LB['Value'] = LB['Value'].apply(NormalizeValue.convert_value_wage).astype(int)\n",
    "LB['Wage'] = LB['Wage'].apply(NormalizeValue.convert_value_wage).astype(int)\n",
    "    \n",
    "    # Create additional features\n",
    "LB['Fitness'] = LB[['Acceleration', 'SprintSpeed', 'Agility', 'Reactions',\n",
    "                         'Balance', 'Jumping', 'Stamina', 'Strength', \n",
    "                         'Aggression', 'Vision']].sum(axis=1)\n",
    "    \n",
    "\n"
   ]
  },
  {
   "cell_type": "markdown",
   "metadata": {},
   "source": [
    "Potential Prediction Model"
   ]
  },
  {
   "cell_type": "code",
   "execution_count": 10,
   "metadata": {},
   "outputs": [
    {
     "name": "stdout",
     "output_type": "stream",
     "text": [
      "Player Potential : \n",
      "Combined R^2 Test: 0.8968978834206376\n",
      "Combined R^2 Train: 0.9738267070760908\n"
     ]
    },
    {
     "name": "stderr",
     "output_type": "stream",
     "text": [
      "C:\\Users\\goel6\\AppData\\Roaming\\Python\\Python312\\site-packages\\sklearn\\linear_model\\_ridge.py:216: LinAlgWarning: Ill-conditioned matrix (rcond=6.15627e-17): result may not be accurate.\n",
      "  return linalg.solve(A, Xy, assume_a=\"pos\", overwrite_a=True).T\n"
     ]
    }
   ],
   "source": [
    "import CombinedModle\n",
    "\n",
    "# Define features and targets for potential prediction\n",
    "x_potential = LB.drop(['ID', 'Potential'], axis=1)\n",
    "y_potential = LB['Potential']\n",
    "\n",
    "# Ensure x_potential contains only numeric values\n",
    "x_potential = x_potential.select_dtypes(include=['number'])\n",
    "\n",
    "# Split data\n",
    "x_train_p, x_test_p, y_train_p, y_test_p = train_test_split(x_potential, y_potential, test_size=0.25, random_state=42)\n",
    "print(\"Player Potential : \")\n",
    "type='potential'\n",
    "Combine_test_p, Combine_train_p , LB = CombinedModle.train_and_evaluate(LB, type, x_train_p, y_train_p, x_test_p, y_test_p)\n",
    "\n"
   ]
  },
  {
   "cell_type": "markdown",
   "metadata": {},
   "source": [
    "Wage Prediction Model"
   ]
  },
  {
   "cell_type": "code",
   "execution_count": 11,
   "metadata": {},
   "outputs": [
    {
     "name": "stdout",
     "output_type": "stream",
     "text": [
      "\n",
      "Player Wage : \n",
      "Combined R^2 Test: 0.7217447511313341\n",
      "Combined R^2 Train: 0.9259042149826067\n"
     ]
    }
   ],
   "source": [
    "import CombinedModle\n",
    "\n",
    "\n",
    "x_Wage = LB[['International Reputation', 'Potential', 'Fitness', 'Skill Moves','Value']]\n",
    "y_Wage = LB['Wage']\n",
    "\n",
    "# Ensure x_Wage contains only numeric values\n",
    "x_Wage = x_Wage.select_dtypes(include=['number'])\n",
    "\n",
    "# Split data\n",
    "x_train_w, x_test_w, y_train_w, y_test_w = train_test_split(x_Wage, y_Wage, test_size=0.25, random_state=42)\n",
    "print(\"\\nPlayer Wage : \")\n",
    "type='wage'\n",
    "Combine_test_w, Combine_train_w, LB = CombinedModle.train_and_evaluate(LB, type, x_train_w, y_train_w, x_test_w, y_test_w)\n",
    "\n"
   ]
  },
  {
   "cell_type": "markdown",
   "metadata": {},
   "source": [
    "Filtering Top 10 Players"
   ]
  },
  {
   "cell_type": "code",
   "execution_count": 12,
   "metadata": {},
   "outputs": [
    {
     "name": "stdout",
     "output_type": "stream",
     "text": [
      "\n",
      "Top 10 Players' Information:\n",
      "    ID         Name  Age  Potential    Value  Wage  Preferred Foot  International Reputation  Weak Foot  Skill Moves  Position  Height  Weight  Crossing  Finishing  HeadingAccuracy  ShortPassing  Volleys  Dribbling  Curve  FKAccuracy  LongPassing  BallControl  Acceleration  SprintSpeed  Agility  Reactions  Balance  ShotPower  Jumping  Stamina  Strength  LongShots  Aggression  Interceptions  Vision  Penalties  Composure  Marking  StandingTackle  SlidingTackle  Fitness  Predicted Potential  Predicted Wage\n",
      "236295 Aarón Martín   21         85 11000000 18000               0                       1.0        3.0          3.0         0  180.34   72.12      76.0       33.0             73.0          76.0     21.0       71.0   62.0        54.0         61.0         75.0          76.0         69.0     68.0       77.0     67.0       55.0     61.0     77.0      60.0       28.0        60.0           78.0    59.0       43.0       70.0     78.0            78.0           76.0    674.0            83.581675    48644.805156\n",
      "193352 R. Rodríguez   25         83 15500000 81000               0                       3.0        3.0          4.0         0  180.34   77.11      86.0       59.0             64.0          78.0     67.0       76.0   82.0        84.0         78.0         78.0          73.0         73.0     73.0       80.0     70.0       78.0     73.0     77.0      75.0       72.0        75.0           80.0    74.0       83.0       80.0     80.0            78.0           78.0    743.0            83.320770    67395.423160\n",
      "240976  M. Saracchi   20         85  9500000 27000               0                       1.0        3.0          3.0         0  172.72   68.95      76.0       64.0             68.0          74.0     48.0       73.0   50.0        61.0         70.0         72.0          87.0         83.0     77.0       71.0     78.0       71.0     76.0     79.0      68.0       68.0        77.0           66.0    71.0       53.0       72.0     75.0            70.0           72.0    767.0            82.895488    39000.613313\n",
      "210455        Jonny   24         83 13500000 43000               1                       2.0        3.0          3.0         1  170.18   69.85      77.0       34.0             70.0          73.0     44.0       73.0   60.0        54.0         59.0         76.0          77.0         78.0     72.0       71.0     78.0       66.0     75.0     83.0      64.0       45.0        82.0           80.0    55.0       46.0       70.0     77.0            79.0           82.0    735.0            82.643028    66683.615382\n",
      "207993 S. Kolašinac   25         82 13000000 89000               0                       2.0        2.0          3.0         0  182.88   84.82      77.0       59.0             74.0          76.0     48.0       73.0   43.0        25.0         53.0         74.0          68.0         75.0     49.0       77.0     55.0       82.0     76.0     79.0      90.0       58.0        93.0           73.0    60.0       44.0       72.0     73.0            81.0           80.0    722.0            81.832325    67682.573078\n",
      "213400    D. Laxalt   25         80 12500000 76000               0                       2.0        3.0          4.0         0  177.80   68.04      78.0       60.0             43.0          78.0     49.0       77.0   61.0        60.0         74.0         78.0          86.0         90.0     85.0       72.0     77.0       74.0     65.0     93.0      60.0       66.0        72.0           64.0    68.0       49.0       76.0     64.0            64.0           68.0    768.0            81.230759    75256.197048\n",
      "235634     G. Konan   22         81  7500000 14000               0                       1.0        3.0          3.0         0  175.26   71.21      71.0       43.0             60.0          71.0     58.0       78.0   73.0        32.0         64.0         76.0          85.0         79.0     77.0       74.0     75.0       57.0     69.0     90.0      66.0       46.0        70.0           71.0    67.0       41.0       77.0     67.0            75.0           69.0    752.0            81.202902    21653.617866\n",
      "216466      Wendell   24         80  9500000 43000               0                       2.0        2.0          4.0         0  177.80   72.12      78.0       37.0             53.0          77.0     29.0       79.0   66.0        75.0         65.0         78.0          87.0         79.0     78.0       75.0     77.0       60.0     68.0     77.0      64.0       59.0        87.0           75.0    69.0       67.0       72.0     72.0            75.0           80.0    761.0            81.191901    47281.231463\n",
      "219681     J. Amavi   24         82 10000000 34000               0                       1.0        4.0          3.0         0  175.26   69.85      79.0       60.0             64.0          74.0     59.0       73.0   74.0        49.0         66.0         76.0          78.0         80.0     75.0       76.0     76.0       76.0     82.0     78.0      70.0       68.0        72.0           73.0    70.0       65.0       67.0     72.0            75.0           77.0    757.0            80.700946    24429.311773\n",
      "204614    Mário Rui   27         80 11500000 60000               0                       2.0        3.0          3.0         0  170.18   67.13      79.0       27.0             60.0          76.0     53.0       79.0   68.0        66.0         72.0         76.0          88.0         83.0     88.0       78.0     89.0       69.0     92.0     91.0      54.0       73.0        73.0           77.0    64.0       60.0       73.0     71.0            76.0           76.0    800.0            80.622825    46796.740085\n"
     ]
    }
   ],
   "source": [
    "\n",
    "# Get the top 10 players based on predicted potential\n",
    "top_players = LB.nlargest(10, 'Predicted Potential')\n",
    "    \n",
    "# Display the top players' information in a table format\n",
    "print(\"\\nTop 10 Players' Information:\")\n",
    "print(top_players.to_string(index=False))\n",
    "data= top_players"
   ]
  }
 ],
 "metadata": {
  "kernelspec": {
   "display_name": "Python 3",
   "language": "python",
   "name": "python3"
  },
  "language_info": {
   "codemirror_mode": {
    "name": "ipython",
    "version": 3
   },
   "file_extension": ".py",
   "mimetype": "text/x-python",
   "name": "python",
   "nbconvert_exporter": "python",
   "pygments_lexer": "ipython3",
   "version": "3.12.3"
  }
 },
 "nbformat": 4,
 "nbformat_minor": 2
}
