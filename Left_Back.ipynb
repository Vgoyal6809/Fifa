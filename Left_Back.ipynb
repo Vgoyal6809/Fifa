{
 "cells": [
  {
   "cell_type": "markdown",
   "metadata": {},
   "source": [
    "1. Import Libraries"
   ]
  },
  {
   "cell_type": "code",
   "execution_count": 23,
   "metadata": {},
   "outputs": [],
   "source": [
    "import pandas as pd\n",
    "from sklearn.model_selection import train_test_split, GridSearchCV\n",
    "from sklearn.metrics import r2_score\n",
    "from sklearn.ensemble import RandomForestRegressor\n",
    "import xgboost as xgb\n",
    "from sklearn.linear_model import Ridge\n",
    "from sklearn.preprocessing import LabelEncoder\n",
    "from xgboost import XGBRegressor\n"
   ]
  },
  {
   "cell_type": "markdown",
   "metadata": {},
   "source": [
    "2. Data Cleaning Functions"
   ]
  },
  {
   "cell_type": "code",
   "execution_count": 24,
   "metadata": {},
   "outputs": [],
   "source": [
    "def clean_data(df):\n",
    "    # Drop unnecessary columns\n",
    "    df = df.drop(['Nationality', 'Overall', 'Club', 'Work Rate', 'Body Type',\n",
    "                  'Jersey Number', 'Joined', 'Loaned From', 'Contract Valid Until',\n",
    "                  'GKDiving', 'GKHandling', 'GKKicking', 'GKPositioning', \n",
    "                  'GKReflexes', 'Release Clause', 'Positioning'], axis=1)\n",
    "\n",
    "    # Convert categorical features\n",
    "    label_encoder = LabelEncoder()\n",
    "    df['Preferred Foot'] = label_encoder.fit_transform(df['Preferred Foot'])\n",
    "    df['Position'] = label_encoder.fit_transform(df['Position'])\n",
    "    \n",
    "    return df\n"
   ]
  },
  {
   "cell_type": "markdown",
   "metadata": {},
   "source": [
    "3. Conversion Functions"
   ]
  },
  {
   "cell_type": "code",
   "execution_count": 25,
   "metadata": {},
   "outputs": [],
   "source": [
    "def convert_height_to_cm(height):\n",
    "    try:\n",
    "        feet, inches = map(int, height.split(\"'\"))\n",
    "        total_inches = feet * 12 + inches\n",
    "        return round(total_inches * 2.54, 2)\n",
    "    except Exception:\n",
    "        return None\n",
    "\n",
    "def convert_weight_to_kg(weight):\n",
    "    try:\n",
    "        return round(float(weight.replace('lbs', '').strip()) * 0.453592, 2)\n",
    "    except Exception:\n",
    "        return None\n",
    "\n",
    "def convert_value_wage(value):\n",
    "    if value[-1] == 'M':\n",
    "        return float(value[1:-1]) * 1e6\n",
    "    elif value[-1] == 'K':\n",
    "        return float(value[1:-1]) * 1e3\n",
    "    return float(value[1:])\n"
   ]
  },
  {
   "cell_type": "code",
   "execution_count": 26,
   "metadata": {},
   "outputs": [],
   "source": [
    "def prepare_data_for_model(data):\n",
    "    # Drop non-numeric columns\n",
    "    data = data.drop(['Name'], axis=1, errors='ignore')  # Drop 'Name' if it exists\n",
    "    return data\n"
   ]
  },
  {
   "cell_type": "markdown",
   "metadata": {},
   "source": [
    "4. Feature Engineering Functions"
   ]
  },
  {
   "cell_type": "code",
   "execution_count": 27,
   "metadata": {},
   "outputs": [],
   "source": [
    "def feature_engineering(df):\n",
    "    df['Height'] = df['Height'].apply(convert_height_to_cm)\n",
    "    df['Weight'] = df['Weight'].apply(convert_weight_to_kg)\n",
    "    df['Value'] = df['Value'].apply(convert_value_wage).astype(int)\n",
    "    df['Wage'] = df['Wage'].apply(convert_value_wage).astype(int)\n",
    "    \n",
    "    # Create additional features\n",
    "    df['Fitness'] = df[['Acceleration', 'SprintSpeed', 'Agility', 'Reactions',\n",
    "                         'Balance', 'Jumping', 'Stamina', 'Strength', \n",
    "                         'Aggression', 'Vision']].sum(axis=1)\n",
    "    \n",
    "    return df\n"
   ]
  },
  {
   "cell_type": "markdown",
   "metadata": {},
   "source": [
    "5. Model Training Functions"
   ]
  },
  {
   "cell_type": "code",
   "execution_count": 28,
   "metadata": {},
   "outputs": [],
   "source": [
    "def train_xgboost_model(x_train, y_train):\n",
    "    xgboost_model = xgb.XGBRegressor(objective='reg:squarederror')\n",
    "    param_grid = {\n",
    "        'n_estimators': [200],\n",
    "        'learning_rate': [0.05],\n",
    "        'max_depth': [7],\n",
    "        'subsample': [0.6],\n",
    "        'colsample_bytree': [1.0],\n",
    "        'reg_alpha': [0.1],\n",
    "        'reg_lambda': [1.5]\n",
    "    }\n",
    "    \n",
    "    grid_search = GridSearchCV(xgboost_model, param_grid, cv=5, scoring='r2', n_jobs=-1)\n",
    "    grid_search.fit(x_train, y_train)\n",
    "    \n",
    "    return grid_search.best_estimator_\n",
    "\n",
    "def train_random_forest_model(x_train, y_train):\n",
    "    rf_model = RandomForestRegressor()\n",
    "    rf_model.fit(x_train, y_train)\n",
    "    return rf_model\n",
    "\n",
    "def train_ridge_model(x_train, y_train):\n",
    "    ridge_model = Ridge()\n",
    "    ridge_model.fit(x_train, y_train)\n",
    "    return ridge_model\n"
   ]
  },
  {
   "cell_type": "markdown",
   "metadata": {},
   "source": [
    "6. Main Program Logic"
   ]
  },
  {
   "cell_type": "markdown",
   "metadata": {},
   "source": [
    "Part 1: Predicting Potential"
   ]
  },
  {
   "cell_type": "code",
   "execution_count": 29,
   "metadata": {},
   "outputs": [
    {
     "name": "stdout",
     "output_type": "stream",
     "text": [
      "XGBoost Potential Test R2: 0.8717904686927795\n",
      "Random Forest Potential Test R2: 0.8739011410724974\n",
      "Ridge Potential Test R2: 0.8021997714204026\n",
      "Hybrid Potential Test R2: 0.8773504958874885\n",
      "\n",
      "Top 10 Players Based on Predicted Potential:\n",
      "             Name  Predicted Potential  Actual Potential\n",
      "49   Aarón Martín            83.358966                85\n",
      "23   R. Rodríguez            82.802695                83\n",
      "29          Jonny            82.383815                83\n",
      "56        Wendell            81.871923                80\n",
      "44      D. Laxalt            81.789879                80\n",
      "107   M. Saracchi            81.715359                85\n",
      "43      J. Mojica            81.653330                81\n",
      "31   S. Kolašinac            81.286768                82\n",
      "51       J. Amavi            80.905744                82\n",
      "32      Mário Rui            80.750215                80\n"
     ]
    }
   ],
   "source": [
    "\n",
    "def clean_data(data):\n",
    "    # Add your data cleaning logic here (e.g., handling missing values)\n",
    "    return data\n",
    "\n",
    "def feature_engineering(data):\n",
    "    # Add your feature engineering logic here (e.g., creating new features)\n",
    "    return data\n",
    "\n",
    "def predict_hybrid_model(predictions):\n",
    "    return sum(predictions) / len(predictions)\n",
    "\n",
    "def main():\n",
    "    # Load the dataset\n",
    "    LB = pd.read_csv(\"LB_position.csv\")\n",
    "\n",
    "    # Clean the data\n",
    "    LB = clean_data(LB)\n",
    "    LB = feature_engineering(LB)\n",
    "\n",
    "    # Define features and targets for potential prediction\n",
    "    x_potential = LB.drop(['ID', 'Potential'], axis=1)\n",
    "    y_potential = LB['Potential']\n",
    "\n",
    "    # Ensure x_potential contains only numeric values\n",
    "    x_potential = x_potential.select_dtypes(include=['number'])\n",
    "\n",
    "    # Split data\n",
    "    x_train_p, x_test_p, y_train_p, y_test_p = train_test_split(x_potential, y_potential, test_size=0.25, random_state=42)\n",
    "\n",
    "    # Train models for potential prediction\n",
    "    best_xgboost_model = train_xgboost_model(x_train_p, y_train_p)\n",
    "    rf_model = train_random_forest_model(x_train_p, y_train_p)\n",
    "    ridge_model = train_ridge_model(x_train_p, y_train_p)\n",
    "\n",
    "    # Make predictions for potential\n",
    "    pred_xgboost_p = best_xgboost_model.predict(x_test_p)\n",
    "    pred_rf_p = rf_model.predict(x_test_p)\n",
    "    pred_ridge_p = ridge_model.predict(x_test_p)\n",
    "\n",
    "    # Hybrid prediction for potential\n",
    "    hybrid_pred_p = predict_hybrid_model([pred_xgboost_p, pred_rf_p, pred_ridge_p])\n",
    "\n",
    "    # Calculate R2 scores for potential\n",
    "    print(f'XGBoost Potential Test R2: {r2_score(y_test_p, pred_xgboost_p)}')\n",
    "    print(f'Random Forest Potential Test R2: {r2_score(y_test_p, pred_rf_p)}')\n",
    "    print(f'Ridge Potential Test R2: {r2_score(y_test_p, pred_ridge_p)}')\n",
    "    print(f'Hybrid Potential Test R2: {r2_score(y_test_p, hybrid_pred_p)}')\n",
    "\n",
    "    potential_results = pd.DataFrame({\n",
    "    'Name': LB.loc[x_test_p.index, 'Name'],  # Get player names from the original DataFrame\n",
    "    'Predicted Potential': hybrid_pred_p,\n",
    "    'Actual Potential': y_test_p\n",
    "})\n",
    "\n",
    "    top_potential = potential_results.nlargest(10, 'Predicted Potential')\n",
    "    print(\"\\nTop 10 Players Based on Predicted Potential:\")\n",
    "    print(top_potential)\n",
    "\n",
    "if __name__ == \"__main__\":\n",
    "    main()\n"
   ]
  },
  {
   "cell_type": "markdown",
   "metadata": {},
   "source": [
    "Part 2: Predicting Value"
   ]
  },
  {
   "cell_type": "code",
   "execution_count": 34,
   "metadata": {},
   "outputs": [
    {
     "name": "stdout",
     "output_type": "stream",
     "text": [
      "XGBoost Value Test R2: 0.7490930314645785\n",
      "Random Forest Value Test R2: 0.7483544674541049\n",
      "Ridge Value Test R2: 0.5183634757149471\n",
      "Hybrid Value Test R2: 0.7856677125970721\n",
      "\n",
      "Top 10 Players Based on Predicted Value:\n",
      "               Name  Predicted Value  Actual Value\n",
      "23     R. Rodríguez     1.382923e+07    15500000.0\n",
      "29            Jonny     1.265402e+07    13500000.0\n",
      "31     S. Kolašinac     1.216342e+07    13000000.0\n",
      "107     M. Saracchi     1.183859e+07     9500000.0\n",
      "32        Mário Rui     1.136720e+07    11500000.0\n",
      "44        D. Laxalt     1.129535e+07    12500000.0\n",
      "56          Wendell     1.113375e+07     9500000.0\n",
      "30        J. Hector     1.068096e+07    10000000.0\n",
      "51         J. Amavi     1.018841e+07    10000000.0\n",
      "65   Alberto Moreno     9.410048e+06     9000000.0\n"
     ]
    }
   ],
   "source": [
    "\n",
    "def clean_data(data):\n",
    "    # Add your data cleaning logic here\n",
    "    return data\n",
    "\n",
    "def feature_engineering(data):\n",
    "    # Create the Fitness column\n",
    "    data['Fitness'] = (data['Acceleration'] + data['SprintSpeed'] + data['Agility'] +\n",
    "                       data['Reactions'] + data['Balance'] + data['Jumping'] +\n",
    "                       data['Stamina'] + data['Strength'] + data['Aggression'] +\n",
    "                       data['Vision'])\n",
    "    \n",
    "    \n",
    "    # Preprocess the Value column to convert to numerical\n",
    "    def convert_value(value):\n",
    "        if 'M' in value:\n",
    "            return float(value.replace('€', '').replace('M', '').replace(',', '').strip()) * 1_000_000\n",
    "        elif 'K' in value:\n",
    "            return float(value.replace('€', '').replace('K', '').replace(',', '').strip()) * 1_000\n",
    "        return float(value.replace('€', '').replace(',', '').strip())\n",
    "    \n",
    "    data['Value'] = data['Value'].apply(convert_value)\n",
    "    return data\n",
    "\n",
    "def predict_hybrid_model(predictions):\n",
    "    # Combine predictions from different models (e.g., average them)\n",
    "    return sum(predictions) / len(predictions)\n",
    "\n",
    "def main():\n",
    "    # Load the dataset\n",
    "    LB = pd.read_csv(\"LB_position.csv\")\n",
    "\n",
    "    # Clean the data\n",
    "    LB = clean_data(LB)\n",
    "    LB = feature_engineering(LB)\n",
    "\n",
    "    # Define features and targets for value prediction\n",
    "    x_value = LB[['International Reputation', 'Potential', 'Fitness', 'Skill Moves']]\n",
    "    y_value = LB['Value']\n",
    "\n",
    "    # Ensure x_value contains only numeric values\n",
    "    x_value = x_value.select_dtypes(include=['number'])\n",
    "\n",
    "    # Split data\n",
    "    x_train_v, x_test_v, y_train_v, y_test_v = train_test_split(x_value, y_value, test_size=0.25, random_state=42)\n",
    "\n",
    "    # Train models for value prediction\n",
    "    best_xgboost_model_value = train_xgboost_model(x_train_v, y_train_v)\n",
    "    rf_model_value = train_random_forest_model(x_train_v, y_train_v)\n",
    "    ridge_model_value = train_ridge_model(x_train_v, y_train_v)\n",
    "\n",
    "    # Make predictions for value\n",
    "    pred_xgboost_v = best_xgboost_model_value.predict(x_test_v)\n",
    "    pred_rf_v = rf_model_value.predict(x_test_v)\n",
    "    pred_ridge_v = ridge_model_value.predict(x_test_v)\n",
    "\n",
    "    # Hybrid prediction for value\n",
    "    hybrid_pred_v = predict_hybrid_model([pred_xgboost_v, pred_rf_v, pred_ridge_v])\n",
    "\n",
    "    # Calculate R2 scores for value\n",
    "    print(f'XGBoost Value Test R2: {r2_score(y_test_v, pred_xgboost_v)}')\n",
    "    print(f'Random Forest Value Test R2: {r2_score(y_test_v, pred_rf_v)}')\n",
    "    print(f'Ridge Value Test R2: {r2_score(y_test_v, pred_ridge_v)}')\n",
    "    print(f'Hybrid Value Test R2: {r2_score(y_test_v, hybrid_pred_v)}')\n",
    "\n",
    "    # Identify and print top 10 players based on hybrid value predictions\n",
    "    value_results = pd.DataFrame({\n",
    "    'Name': LB.loc[x_test_v.index, 'Name'],  # Get player names from the original DataFrame\n",
    "    'Predicted Value': hybrid_pred_v,\n",
    "    'Actual Value': y_test_v\n",
    "})\n",
    "\n",
    "    top_value = value_results.nlargest(10, 'Predicted Value')\n",
    "    print(\"\\nTop 10 Players Based on Predicted Value:\")\n",
    "    print(top_value)\n",
    "\n",
    "if __name__ == \"__main__\":\n",
    "    main()\n"
   ]
  }
 ],
 "metadata": {
  "kernelspec": {
   "display_name": "Python 3",
   "language": "python",
   "name": "python3"
  },
  "language_info": {
   "codemirror_mode": {
    "name": "ipython",
    "version": 3
   },
   "file_extension": ".py",
   "mimetype": "text/x-python",
   "name": "python",
   "nbconvert_exporter": "python",
   "pygments_lexer": "ipython3",
   "version": "3.12.3"
  }
 },
 "nbformat": 4,
 "nbformat_minor": 2
}
