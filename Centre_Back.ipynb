{
 "cells": [
  {
   "cell_type": "markdown",
   "metadata": {},
   "source": [
    "1. Import Libraries"
   ]
  },
  {
   "cell_type": "code",
   "execution_count": 1,
   "metadata": {},
   "outputs": [],
   "source": [
    "import pandas as pd\n",
    "from sklearn.model_selection import train_test_split\n",
    "from sklearn.preprocessing import LabelEncoder"
   ]
  },
  {
   "cell_type": "markdown",
   "metadata": {},
   "source": [
    "2. Reading File\n"
   ]
  },
  {
   "cell_type": "code",
   "execution_count": 2,
   "metadata": {},
   "outputs": [],
   "source": [
    "CB = pd.read_csv(\"CB_position.csv\")"
   ]
  },
  {
   "cell_type": "markdown",
   "metadata": {},
   "source": [
    "3. Selecting Features"
   ]
  },
  {
   "cell_type": "code",
   "execution_count": 3,
   "metadata": {},
   "outputs": [],
   "source": [
    "\n",
    "# Drop unnecessary columns\n",
    "CB = CB.drop(['Nationality', 'Overall', 'Club', 'Work Rate', 'Body Type',\n",
    "                  'Jersey Number', 'Joined', 'Loaned From', 'Contract Valid Until',\n",
    "                  'GKDiving', 'GKHandling', 'GKKicking', 'GKPositioning', \n",
    "                  'GKReflexes', 'Release Clause', 'Positioning'], axis=1)\n",
    "\n",
    "# Convert categorical features\n",
    "label_encoder = LabelEncoder()\n",
    "CB['Preferred Foot'] = label_encoder.fit_transform(CB['Preferred Foot'])\n",
    "CB['Position'] = label_encoder.fit_transform(CB['Position'])\n",
    "    \n"
   ]
  },
  {
   "cell_type": "markdown",
   "metadata": {},
   "source": [
    "4. Feature Engineering Functions"
   ]
  },
  {
   "cell_type": "code",
   "execution_count": 4,
   "metadata": {},
   "outputs": [],
   "source": [
    "import NormalizeValue\n",
    "\n",
    "CB['Height'] = CB['Height'].apply(NormalizeValue.convert_height_to_cm)\n",
    "CB['Weight'] = CB['Weight'].apply(NormalizeValue.convert_weight_to_kg)\n",
    "CB['Value'] = CB['Value'].apply(NormalizeValue.convert_value_wage).astype(int)\n",
    "CB['Wage'] = CB['Wage'].apply(NormalizeValue.convert_value_wage).astype(int)\n",
    "    \n",
    "    # Create additional features\n",
    "CB['Fitness'] = CB[['Acceleration', 'SprintSpeed', 'Agility', 'Reactions',\n",
    "                         'Balance', 'Jumping', 'Stamina', 'Strength', \n",
    "                         'Aggression', 'Vision']].sum(axis=1)\n"
   ]
  },
  {
   "cell_type": "markdown",
   "metadata": {},
   "source": [
    "Potential Prediction Model"
   ]
  },
  {
   "cell_type": "code",
   "execution_count": 5,
   "metadata": {},
   "outputs": [
    {
     "name": "stdout",
     "output_type": "stream",
     "text": [
      "Player Potential : \n"
     ]
    },
    {
     "name": "stderr",
     "output_type": "stream",
     "text": [
      "C:\\Users\\goel6\\AppData\\Roaming\\Python\\Python312\\site-packages\\sklearn\\linear_model\\_ridge.py:216: LinAlgWarning: Ill-conditioned matrix (rcond=2.09521e-17): result may not be accurate.\n",
      "  return linalg.solve(A, Xy, assume_a=\"pos\", overwrite_a=True).T\n"
     ]
    },
    {
     "name": "stdout",
     "output_type": "stream",
     "text": [
      "Combined R^2 Test: 0.9328642991710313\n",
      "Combined R^2 Train: 0.9731632594470632\n"
     ]
    }
   ],
   "source": [
    "import CombinedModle\n",
    "# Define features and targets for potential prediction\n",
    "x_potential = CB.drop(['ID', 'Potential'], axis=1)\n",
    "y_potential = CB['Potential']\n",
    "\n",
    "# Ensure x_potential contains only numeric values\n",
    "x_potential = x_potential.select_dtypes(include=['number'])\n",
    "\n",
    "# Split data into proper training and test dataset\n",
    "x_train_p, x_test_p, y_train_p, y_test_p = train_test_split(x_potential, y_potential, test_size=0.25, random_state=42)\n",
    "print(\"Player Potential : \")\n",
    "type='potential'\n",
    "Combine_test_p, Combine_train_p , CB = CombinedModle.train_and_evaluate(CB, type, x_train_p, y_train_p, x_test_p, y_test_p)"
   ]
  },
  {
   "cell_type": "markdown",
   "metadata": {},
   "source": [
    "Wage Prediction Model"
   ]
  },
  {
   "cell_type": "code",
   "execution_count": 6,
   "metadata": {},
   "outputs": [
    {
     "name": "stdout",
     "output_type": "stream",
     "text": [
      "\n",
      "Player Wage : \n",
      "Combined R^2 Test: 0.7080240282260173\n",
      "Combined R^2 Train: 0.9279555162521376\n"
     ]
    }
   ],
   "source": [
    "import CombinedModle\n",
    "\n",
    "\n",
    "x_Wage = CB[['International Reputation', 'Potential', 'Fitness', 'Skill Moves','Value']]\n",
    "y_Wage = CB['Wage']\n",
    "\n",
    "# Ensure x_Wage contains only numeric values\n",
    "x_Wage = x_Wage.select_dtypes(include=['number'])\n",
    "\n",
    "# Split data\n",
    "x_train_w, x_test_w, y_train_w, y_test_w = train_test_split(x_Wage, y_Wage, test_size=0.25, random_state=42)\n",
    "print(\"\\nPlayer Wage : \")\n",
    "type='wage'\n",
    "Combine_test_w, Combine_train_w, CB = CombinedModle.train_and_evaluate(CB, type, x_train_w, y_train_w, x_test_w, y_test_w)\n"
   ]
  },
  {
   "cell_type": "markdown",
   "metadata": {},
   "source": [
    "Filtering Top 10 Players"
   ]
  },
  {
   "cell_type": "code",
   "execution_count": null,
   "metadata": {},
   "outputs": [
    {
     "name": "stdout",
     "output_type": "stream",
     "text": [
      "\n",
      "Top 10 Players' Information:\n",
      "    ID            Name  Age  Potential    Value   Wage  Preferred Foot  International Reputation  Weak Foot  Skill Moves  Position  Height  Weight  Crossing  Finishing  HeadingAccuracy  ShortPassing  Volleys  Dribbling  Curve  FKAccuracy  LongPassing  BallControl  Acceleration  SprintSpeed  Agility  Reactions  Balance  ShotPower  Jumping  Stamina  Strength  LongShots  Aggression  Interceptions  Vision  Penalties  Composure  Marking  StandingTackle  SlidingTackle  Fitness  PredictedPotential  PredictedWage\n",
      "155862    Sergio Ramos   32         91 51000000 380000               1                       4.0        3.0          3.0         2  182.88   82.10      66.0       60.0             91.0          78.0     66.0       63.0   74.0        72.0         77.0         84.0          76.0         75.0     78.0       85.0     66.0       79.0     93.0     84.0      83.0       59.0        88.0           90.0    63.0       75.0       82.0     87.0            92.0           91.0    791.0           89.041118  179716.176058\n",
      "232363     M. Škriniar   23         92 46500000  82000               1                       1.0        4.0          2.0         1  187.96   79.83      40.0       42.0             80.0          70.0     40.0       59.0   34.0        30.0         68.0         67.0          70.0         73.0     48.0       81.0     48.0       50.0     78.0     77.0      83.0       30.0        86.0           86.0    57.0       56.0       80.0     92.0            88.0           82.0    701.0           88.786660  100128.698332\n",
      "220793      D. Sánchez   22         88 34000000 105000               1                       2.0        3.0          2.0         2  187.96   78.93      36.0       40.0             80.0          77.0     28.0       63.0   30.0        27.0         67.0         73.0          72.0         79.0     60.0       80.0     55.0       66.0     73.0     76.0      83.0       44.0        87.0           82.0    49.0       44.0       75.0     84.0            85.0           88.0    714.0           88.354020  108628.337451\n",
      "213331          J. Tah   22         88 29500000  67000               1                       2.0        4.0          2.0         0  195.58   97.07      35.0       20.0             80.0          74.0     24.0       55.0   30.0        27.0         69.0         64.0          64.0         77.0     48.0       82.0     44.0       44.0     72.0     63.0      93.0       25.0        76.0           80.0    61.0       38.0       75.0     80.0            88.0           84.0    680.0           87.617055   99115.525052\n",
      "184087 T. Alderweireld   29         87 39000000 150000               1                       3.0        3.0          2.0         2  185.42   81.19      64.0       45.0             82.0          79.0     38.0       62.0   63.0        69.0         85.0         74.0          61.0         66.0     60.0       86.0     50.0       78.0     84.0     74.0      79.0       65.0        80.0           87.0    67.0       58.0       81.0     90.0            91.0           86.0    707.0           87.572763  130229.797170\n",
      "210413    A. Romagnoli   23         89 26500000  84000               0                       2.0        3.0          2.0         1  187.96   78.02      36.0       30.0             76.0          70.0     28.0       65.0   36.0        24.0         69.0         69.0          63.0         69.0     60.0       78.0     53.0       64.0     78.0     75.0      81.0       46.0        84.0           85.0    40.0       34.0       76.0     88.0            85.0           81.0    681.0           87.216282   84185.788322\n",
      "212190         N. Süle   22         90 36500000  84000               1                       2.0        3.0          2.0         0  195.58   97.07      30.0       20.0             86.0          78.0     31.0       42.0   28.0        30.0         63.0         63.0          52.0         84.0     33.0       79.0     33.0       77.0     38.0     65.0      94.0       62.0        82.0           82.0    30.0       32.0       72.0     82.0            85.0           83.0    590.0           87.060021   99340.704969\n",
      "172871   J. Vertonghen   31         87 34000000 155000               0                       3.0        3.0          3.0         1  187.96   86.18      68.0       56.0             80.0          79.0     52.0       71.0   58.0        73.0         74.0         76.0          61.0         65.0     61.0       84.0     60.0       80.0     85.0     75.0      79.0       66.0        84.0           89.0    68.0       66.0       83.0     90.0            87.0           88.0    722.0           86.928604  124961.031534\n",
      "211320       D. Rugani   23         86 24500000  95000               1                       2.0        3.0          2.0         0  190.50   83.91      40.0       33.0             80.0          65.0     35.0       64.0   45.0        25.0         59.0         65.0          56.0         67.0     59.0       78.0     53.0       58.0     81.0     67.0      79.0       39.0        72.0           86.0    50.0       36.0       70.0     87.0            86.0           82.0    662.0           86.899680  102061.366743\n",
      "220440      C. Lenglet   23         88 26000000 135000               0                       1.0        4.0          2.0         1  185.42   81.19      36.0       23.0             78.0          78.0     24.0       60.0   25.0        27.0         69.0         76.0          72.0         73.0     62.0       79.0     60.0       58.0     79.0     73.0      80.0       35.0        80.0           82.0    60.0       43.0       74.0     85.0            82.0           81.0    718.0           86.824124   97429.959146\n"
     ]
    }
   ],
   "source": [
    "\n",
    "# Get the top 10 players based on predicted potential\n",
    "top_players = CB.nlargest(10, 'PredictedPotential')\n",
    "    \n",
    "# Display the top players' information in a table format\n",
    "print(\"\\nTop 10 Players' Information:\")\n",
    "print(top_players.to_string(index=False))\n",
    "data= top_players "
   ]
  }
 ],
 "metadata": {
  "kernelspec": {
   "display_name": "Python 3",
   "language": "python",
   "name": "python3"
  },
  "language_info": {
   "codemirror_mode": {
    "name": "ipython",
    "version": 3
   },
   "file_extension": ".py",
   "mimetype": "text/x-python",
   "name": "python",
   "nbconvert_exporter": "python",
   "pygments_lexer": "ipython3",
   "version": "3.12.3"
  }
 },
 "nbformat": 4,
 "nbformat_minor": 2
}
