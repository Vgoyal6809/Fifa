{
 "cells": [
  {
   "cell_type": "markdown",
   "metadata": {},
   "source": [
    "1. Import Libraries"
   ]
  },
  {
   "cell_type": "code",
   "execution_count": 1,
   "metadata": {},
   "outputs": [],
   "source": [
    "import pandas as pd\n",
    "from sklearn.model_selection import train_test_split\n",
    "from sklearn.preprocessing import LabelEncoder"
   ]
  },
  {
   "cell_type": "markdown",
   "metadata": {},
   "source": [
    "2. Reading File"
   ]
  },
  {
   "cell_type": "code",
   "execution_count": 2,
   "metadata": {},
   "outputs": [],
   "source": [
    "ST = pd.read_csv(\"ST_position.csv\")"
   ]
  },
  {
   "cell_type": "markdown",
   "metadata": {},
   "source": [
    "3. Selecting Features"
   ]
  },
  {
   "cell_type": "code",
   "execution_count": 3,
   "metadata": {},
   "outputs": [],
   "source": [
    "\n",
    "# Drop unnecessary columns\n",
    "ST = ST.drop(['Nationality', 'Overall', 'Club', 'Work Rate', 'Body Type',\n",
    "                  'Jersey Number', 'Joined', 'Loaned From', 'Contract Valid Until',\n",
    "                  'GKDiving', 'GKHandling', 'GKKicking', 'GKPositioning', \n",
    "                  'GKReflexes', 'Release Clause', 'Positioning'], axis=1)\n",
    "\n",
    "# Convert categorical features\n",
    "label_encoder = LabelEncoder()\n",
    "ST['Preferred Foot'] = label_encoder.fit_transform(ST['Preferred Foot'])\n",
    "ST['Position'] = label_encoder.fit_transform(ST['Position'])\n",
    "    \n"
   ]
  },
  {
   "cell_type": "markdown",
   "metadata": {},
   "source": [
    "4. Feature Engineering Functions"
   ]
  },
  {
   "cell_type": "code",
   "execution_count": 4,
   "metadata": {},
   "outputs": [],
   "source": [
    "import NormalizeValue\n",
    "\n",
    "ST['Height'] = ST['Height'].apply(NormalizeValue.convert_height_to_cm)\n",
    "ST['Weight'] = ST['Weight'].apply(NormalizeValue.convert_weight_to_kg)\n",
    "ST['Value'] = ST['Value'].apply(NormalizeValue.convert_value_wage).astype(int)\n",
    "ST['Wage'] = ST['Wage'].apply(NormalizeValue.convert_value_wage).astype(int)\n",
    "    \n",
    "    # Create additional features\n",
    "ST['Fitness'] = ST[['Acceleration', 'SprintSpeed', 'Agility', 'Reactions',\n",
    "                         'Balance', 'Jumping', 'Stamina', 'Strength', \n",
    "                         'Aggression', 'Vision']].sum(axis=1)\n",
    "    \n",
    "\n"
   ]
  },
  {
   "cell_type": "markdown",
   "metadata": {},
   "source": [
    "Potential Prediction Model"
   ]
  },
  {
   "cell_type": "code",
   "execution_count": 5,
   "metadata": {},
   "outputs": [
    {
     "name": "stdout",
     "output_type": "stream",
     "text": [
      "Player Potential : \n"
     ]
    },
    {
     "name": "stderr",
     "output_type": "stream",
     "text": [
      "C:\\Users\\goel6\\AppData\\Roaming\\Python\\Python312\\site-packages\\sklearn\\linear_model\\_ridge.py:216: LinAlgWarning: Ill-conditioned matrix (rcond=1.15195e-17): result may not be accurate.\n",
      "  return linalg.solve(A, Xy, assume_a=\"pos\", overwrite_a=True).T\n"
     ]
    },
    {
     "name": "stdout",
     "output_type": "stream",
     "text": [
      "Combined R^2 Test: 0.9116901150350057\n",
      "Combined R^2 Train: 0.9709871465215683\n"
     ]
    }
   ],
   "source": [
    "import CombinedModle\n",
    "\n",
    "# Define features and targets for potential prediction\n",
    "x_potential = ST.drop(['ID', 'Potential'], axis=1)\n",
    "y_potential = ST['Potential']\n",
    "\n",
    "# Ensure x_potential contains only numeric values\n",
    "x_potential = x_potential.select_dtypes(include=['number'])\n",
    "\n",
    "# Split data\n",
    "x_train_p, x_test_p, y_train_p, y_test_p = train_test_split(x_potential, y_potential, test_size=0.25, random_state=42)\n",
    "print(\"Player Potential : \")\n",
    "type='potential'\n",
    "Combine_test_p, Combine_train_p , ST = CombinedModle.train_and_evaluate(ST, type, x_train_p, y_train_p, x_test_p, y_test_p)\n",
    "\n"
   ]
  },
  {
   "cell_type": "markdown",
   "metadata": {},
   "source": [
    "Wage Prediction Model"
   ]
  },
  {
   "cell_type": "code",
   "execution_count": 6,
   "metadata": {},
   "outputs": [
    {
     "name": "stdout",
     "output_type": "stream",
     "text": [
      "\n",
      "Player Wage : \n",
      "Combined R^2 Test: 0.5785949160592441\n",
      "Combined R^2 Train: 0.9327510740656205\n"
     ]
    }
   ],
   "source": [
    "import CombinedModle\n",
    "x_Wage = ST[['International Reputation', 'Potential', 'Fitness', 'Skill Moves','Value']]\n",
    "y_Wage = ST['Wage']\n",
    "\n",
    "# Ensure x_Wage contains only numeric values\n",
    "x_Wage = x_Wage.select_dtypes(include=['number'])\n",
    "\n",
    "# Split data\n",
    "x_train_w, x_test_w, y_train_w, y_test_w = train_test_split(x_Wage, y_Wage, test_size=0.25, random_state=42)\n",
    "print(\"\\nPlayer Wage : \")\n",
    "type='wage'\n",
    "Combine_test_w, Combine_train_w, ST = CombinedModle.train_and_evaluate(ST, type, x_train_w, y_train_w, x_test_w, y_test_w)"
   ]
  },
  {
   "cell_type": "markdown",
   "metadata": {},
   "source": [
    "Filtering Top 10 Players"
   ]
  },
  {
   "cell_type": "code",
   "execution_count": null,
   "metadata": {},
   "outputs": [
    {
     "name": "stdout",
     "output_type": "stream",
     "text": [
      "\n",
      "Top 10 Players' Information:\n",
      "    ID         Name  Age  Potential    Value  Wage  Preferred Foot  International Reputation  Weak Foot  Skill Moves  Position  Height  Weight  Crossing  Finishing  HeadingAccuracy  ShortPassing  Volleys  Dribbling  Curve  FKAccuracy  LongPassing  BallControl  Acceleration  SprintSpeed  Agility  Reactions  Balance  ShotPower  Jumping  Stamina  Strength  LongShots  Aggression  Interceptions  Vision  Penalties  Composure  Marking  StandingTackle  SlidingTackle  Fitness  PredictedPotential  PredictedWage\n",
      "208596   A. Belotti   24         87 30000000 58000               1                       3.0        5.0          3.0         1  180.34   72.12      42.0       88.0             84.0          68.0     80.0       78.0   64.0        56.0         42.0         75.0          78.0         79.0     79.0       76.0     75.0       81.0     83.0     83.0      84.0       67.0        83.0           31.0    61.0       77.0       75.0     55.0            23.0           32.0    781.0           86.270924   88966.868338\n",
      "206113    S. Gnabry   22         88 34500000 85000               1                       2.0        4.0          4.0         3  175.26   74.84      74.0       81.0             46.0          79.0     83.0       87.0   64.0        62.0         68.0         83.0          92.0         90.0     87.0       80.0     88.0       85.0     64.0     68.0      68.0       81.0        63.0           38.0    74.0       68.0       74.0     45.0            48.0           45.0    774.0           86.092825   98463.521296\n",
      "221992    H. Lozano   22         86 24000000 22000               1                       3.0        4.0          4.0         1  175.26   69.85      75.0       77.0             60.0          74.0     75.0       84.0   72.0        65.0         67.0         80.0          94.0         93.0     91.0       77.0     76.0       76.0     75.0     80.0      59.0       76.0        64.0           45.0    75.0       64.0       77.0     45.0            35.0           29.0    784.0           85.594609   91543.089677\n",
      "239207     M. Gómez   21         85 20500000 25000               1                       1.0        3.0          3.0         3  185.42   83.91      56.0       85.0             81.0          76.0     76.0       76.0   68.0        53.0         58.0         77.0          61.0         65.0     45.0       77.0     53.0       79.0     73.0     71.0      80.0       76.0        65.0           21.0    60.0       67.0       65.0     35.0            20.0           23.0    650.0           85.508662   60420.495620\n",
      "237715   P. Cutrone   20         89 16000000 62000               1                       1.0        3.0          3.0         2  182.88   78.02      48.0       80.0             76.0          70.0     72.0       74.0   68.0        42.0         34.0         76.0          75.0         77.0     69.0       74.0     76.0       74.0     75.0     72.0      74.0       62.0        60.0           14.0    56.0       68.0       72.0     36.0            20.0           18.0    708.0           84.982205   33963.779995\n",
      "211591   M. Dembélé   21         85 12000000 43000               1                       1.0        2.0          4.0         3  182.88   73.94      50.0       76.0             73.0          68.0     67.0       75.0   69.0        35.0         41.0         77.0          79.0         84.0     77.0       71.0     64.0       75.0     81.0     69.0      86.0       62.0        69.0           22.0    64.0       82.0       76.0     39.0            14.0           16.0    744.0           84.399133   41129.835228\n",
      "200610   K. Volland   25         83 22000000 76000               0                       2.0        3.0          3.0         3  177.80   84.82      78.0       81.0             67.0          81.0     77.0       79.0   79.0        76.0         67.0         81.0          78.0         77.0     73.0       82.0     84.0       85.0     78.0     88.0      82.0       81.0        78.0           45.0    81.0       72.0       80.0     22.0            50.0           33.0    801.0           84.241585   90103.063367\n",
      "232381       Wesley   21         85 13500000 20000               1                       1.0        3.0          3.0         1  190.50   93.89      65.0       75.0             73.0          75.0     71.0       76.0   57.0        49.0         67.0         78.0          68.0         79.0     50.0       71.0     45.0       81.0     66.0     74.0      95.0       67.0        80.0           37.0    68.0       60.0       75.0     35.0            27.0           15.0    696.0           84.127899   34899.178111\n",
      "223197      E. Ünal   21         83 12500000 26000               1                       1.0        4.0          3.0         3  185.42   74.84      56.0       78.0             72.0          73.0     74.0       76.0   68.0        66.0         47.0         77.0          75.0         74.0     74.0       68.0     68.0       82.0     70.0     71.0      79.0       79.0        43.0           29.0    59.0       69.0       75.0     34.0            33.0           24.0    681.0           84.080312   47528.252449\n",
      "199069 V. Aboubakar   26         82 18000000 19000               1                       3.0        3.0          5.0         3  182.88   82.10      57.0       80.0             77.0          75.0     81.0       81.0   80.0        67.0         68.0         80.0          76.0         83.0     72.0       77.0     63.0       81.0     78.0     83.0      85.0       75.0        77.0           33.0    81.0       76.0       86.0     44.0            23.0           19.0    775.0           83.839616   56249.646941\n"
     ]
    }
   ],
   "source": [
    "\n",
    "# Get the top 10 players based on predicted potential\n",
    "top_players = ST.nlargest(10, 'PredictedPotential')\n",
    "    \n",
    "# Display the top players' information in a table format\n",
    "print(\"\\nTop 10 Players' Information:\")\n",
    "print(top_players.to_string(index=False))\n",
    "data= top_players "
   ]
  }
 ],
 "metadata": {
  "kernelspec": {
   "display_name": "Python 3",
   "language": "python",
   "name": "python3"
  },
  "language_info": {
   "codemirror_mode": {
    "name": "ipython",
    "version": 3
   },
   "file_extension": ".py",
   "mimetype": "text/x-python",
   "name": "python",
   "nbconvert_exporter": "python",
   "pygments_lexer": "ipython3",
   "version": "3.12.3"
  }
 },
 "nbformat": 4,
 "nbformat_minor": 2
}
