{
 "cells": [
  {
   "cell_type": "markdown",
   "metadata": {},
   "source": [
    "1. Import Libraries"
   ]
  },
  {
   "cell_type": "code",
   "execution_count": 1,
   "metadata": {},
   "outputs": [],
   "source": [
    "import pandas as pd\n",
    "from sklearn.model_selection import train_test_split\n",
    "from sklearn.preprocessing import LabelEncoder"
   ]
  },
  {
   "cell_type": "markdown",
   "metadata": {},
   "source": [
    "2. Reading File"
   ]
  },
  {
   "cell_type": "code",
   "execution_count": 2,
   "metadata": {},
   "outputs": [],
   "source": [
    "RB = pd.read_csv(\"RB_position.csv\")"
   ]
  },
  {
   "cell_type": "markdown",
   "metadata": {},
   "source": [
    "3. Selecting Features"
   ]
  },
  {
   "cell_type": "code",
   "execution_count": 3,
   "metadata": {},
   "outputs": [],
   "source": [
    "\n",
    "# Drop unnecessary columns\n",
    "RB = RB.drop(['Nationality', 'Overall', 'Club', 'Work Rate', 'Body Type',\n",
    "                  'Jersey Number', 'Joined', 'Loaned From', 'Contract Valid Until',\n",
    "                  'GKDiving', 'GKHandling', 'GKKicking', 'GKPositioning', \n",
    "                  'GKReflexes', 'Release Clause', 'Positioning'], axis=1)\n",
    "\n",
    "# Convert categorical features\n",
    "label_encoder = LabelEncoder()\n",
    "RB['Preferred Foot'] = label_encoder.fit_transform(RB['Preferred Foot'])\n",
    "RB['Position'] = label_encoder.fit_transform(RB['Position'])\n",
    "    \n"
   ]
  },
  {
   "cell_type": "markdown",
   "metadata": {},
   "source": [
    "4. Feature Engineering Functions"
   ]
  },
  {
   "cell_type": "code",
   "execution_count": 4,
   "metadata": {},
   "outputs": [],
   "source": [
    "import NormalizeValue\n",
    "\n",
    "RB['Height'] = RB['Height'].apply(NormalizeValue.convert_height_to_cm)\n",
    "RB['Weight'] = RB['Weight'].apply(NormalizeValue.convert_weight_to_kg)\n",
    "RB['Value'] = RB['Value'].apply(NormalizeValue.convert_value_wage).astype(int)\n",
    "RB['Wage'] = RB['Wage'].apply(NormalizeValue.convert_value_wage).astype(int)\n",
    "    \n",
    "    # Create additional features\n",
    "RB['Fitness'] = RB[['Acceleration', 'SprintSpeed', 'Agility', 'Reactions',\n",
    "                         'Balance', 'Jumping', 'Stamina', 'Strength', \n",
    "                         'Aggression', 'Vision']].sum(axis=1)\n",
    "    \n",
    "\n"
   ]
  },
  {
   "cell_type": "markdown",
   "metadata": {},
   "source": [
    "Potential Prediction Model"
   ]
  },
  {
   "cell_type": "code",
   "execution_count": 5,
   "metadata": {},
   "outputs": [
    {
     "name": "stdout",
     "output_type": "stream",
     "text": [
      "Player Potential : \n",
      "Combined R^2 Test: 0.9169545012934309\n",
      "Combined R^2 Train: 0.9746010712299464\n"
     ]
    },
    {
     "name": "stderr",
     "output_type": "stream",
     "text": [
      "c:\\Users\\dhira\\Fifa\\myenv\\Lib\\site-packages\\sklearn\\linear_model\\_ridge.py:216: LinAlgWarning: Ill-conditioned matrix (rcond=8.14157e-17): result may not be accurate.\n",
      "  return linalg.solve(A, Xy, assume_a=\"pos\", overwrite_a=True).T\n"
     ]
    }
   ],
   "source": [
    "import CombinedModle\n",
    "\n",
    "# Define features and targets for potential prediction\n",
    "x_potential = RB.drop(['ID', 'Potential'], axis=1)\n",
    "y_potential = RB['Potential']\n",
    "\n",
    "# Ensure x_potential contains only numeric values\n",
    "x_potential = x_potential.select_dtypes(include=['number'])\n",
    "\n",
    "# Split data\n",
    "x_train_p, x_test_p, y_train_p, y_test_p = train_test_split(x_potential, y_potential, test_size=0.25, random_state=42)\n",
    "print(\"Player Potential : \")\n",
    "type='potential'\n",
    "Combine_test_p, Combine_train_p , RB = CombinedModle.train_and_evaluate(RB, type, x_train_p, y_train_p, x_test_p, y_test_p)\n",
    "\n"
   ]
  },
  {
   "cell_type": "markdown",
   "metadata": {},
   "source": [
    "Wage Prediction Model"
   ]
  },
  {
   "cell_type": "code",
   "execution_count": 6,
   "metadata": {},
   "outputs": [
    {
     "name": "stdout",
     "output_type": "stream",
     "text": [
      "\n",
      "Player Wage : \n",
      "Combined R^2 Test: 0.6484399287711236\n",
      "Combined R^2 Train: 0.9269385567005483\n"
     ]
    }
   ],
   "source": [
    "import CombinedModle\n",
    "\n",
    "\n",
    "x_Wage = RB[['International Reputation', 'Potential', 'Fitness', 'Skill Moves','Value']]\n",
    "y_Wage = RB['Wage']\n",
    "\n",
    "# Ensure x_Wage contains only numeric values\n",
    "x_Wage = x_Wage.select_dtypes(include=['number'])\n",
    "\n",
    "# Split data\n",
    "x_train_w, x_test_w, y_train_w, y_test_w = train_test_split(x_Wage, y_Wage, test_size=0.25, random_state=42)\n",
    "print(\"\\nPlayer Wage : \")\n",
    "type='wage'\n",
    "Combine_test_w, Combine_train_w, RB = CombinedModle.train_and_evaluate(RB, type, x_train_w, y_train_w, x_test_w, y_test_w)\n",
    "\n"
   ]
  },
  {
   "cell_type": "markdown",
   "metadata": {},
   "source": [
    "Filtering Top 10 Players"
   ]
  },
  {
   "cell_type": "code",
   "execution_count": 7,
   "metadata": {},
   "outputs": [
    {
     "name": "stdout",
     "output_type": "stream",
     "text": [
      "\n",
      "Top 10 Players' Information:\n",
      "    ID          Name  Age  Potential    Value   Wage  Preferred Foot  International Reputation  Weak Foot  Skill Moves  Position  Height  Weight  Crossing  Finishing  HeadingAccuracy  ShortPassing  Volleys  Dribbling  Curve  FKAccuracy  LongPassing  BallControl  Acceleration  SprintSpeed  Agility  Reactions  Balance  ShotPower  Jumping  Stamina  Strength  LongShots  Aggression  Interceptions  Vision  Penalties  Composure  Marking  StandingTackle  SlidingTackle  Fitness  Predicted Potential  Predicted Wage\n",
      "227928 Nélson Semedo   24         86 20000000 125000               1                       2.0        3.0          4.0         0  177.80   67.13      74.0       50.0             58.0          73.0     42.0       80.0   61.0        30.0         65.0         78.0          91.0         92.0     88.0       82.0     83.0       74.0     80.0     91.0      62.0       60.0        77.0           80.0    62.0       38.0       75.0     75.0            78.0           79.0    808.0            85.024986    60767.763446\n",
      "216266       K. Tete   22         83 11500000  47000               1                       2.0        3.0          3.0         0  180.34   71.21      74.0       42.0             74.0          73.0     36.0       68.0   52.0        34.0         63.0         70.0          74.0         79.0     66.0       74.0     73.0       60.0     77.0     77.0      76.0       41.0        80.0           75.0    58.0       46.0       73.0     77.0            81.0           86.0    734.0            84.733273    57881.155720\n",
      "226229     T. Kehrer   21         84 11000000  43000               0                       1.0        5.0          3.0         0  185.42   76.20      56.0       37.0             76.0          63.0     32.0       63.0   45.0        38.0         58.0         64.0          74.0         76.0     69.0       76.0     65.0       65.0     78.0     74.0      70.0       40.0        80.0           75.0    56.0       36.0       68.0     72.0            81.0           85.0    718.0            83.088145    39076.921106\n",
      "216150 D. Zappacosta   26         81 12500000  94000               1                       2.0        3.0          3.0         0  182.88   72.12      81.0       59.0             69.0          74.0     69.0       76.0   74.0        59.0         68.0         74.0          74.0         79.0     72.0       76.0     73.0       75.0     67.0     87.0      68.0       72.0        75.0           76.0    64.0       59.0       73.0     76.0            78.0           79.0    735.0            82.021183    56114.458418\n",
      "233096   D. Dumfries   22         81  8500000  13000               1                       1.0        2.0          3.0         0  187.96   79.83      77.0       47.0             73.0          69.0     28.0       71.0   50.0        50.0         65.0         69.0          80.0         84.0     68.0       72.0     53.0       66.0     83.0     88.0      87.0       40.0        76.0           68.0    58.0       43.0       67.0     68.0            76.0           74.0    749.0            81.663001    31151.414155\n",
      "194022 André Almeida   27         80 12000000  15000               1                       2.0        3.0          3.0         0  185.42   79.83      80.0       54.0             74.0          78.0     45.0       75.0   77.0        42.0         75.0         79.0          65.0         66.0     66.0       82.0     60.0       70.0     77.0     84.0      78.0       67.0        81.0           81.0    69.0       43.0       77.0     82.0            82.0           79.0    728.0            81.654462    46330.027201\n",
      "243576   Pedro Porro   18         82  1600000   5000               1                       1.0        3.0          3.0         1  175.26   69.85      73.0       61.0             61.0          68.0     51.0       72.0   56.0        45.0         59.0         75.0          75.0         77.0     76.0       64.0     72.0       68.0     62.0     66.0      50.0       59.0        58.0           64.0    54.0       46.0       60.0     62.0            64.0           65.0    654.0            81.496250     7356.777003\n",
      "233767   S. Alakouch   19         81  1500000   3000               1                       1.0        3.0          3.0         0  175.26   66.22      68.0       23.0             40.0          67.0     30.0       62.0   38.0        25.0         62.0         63.0          73.0         72.0     78.0       61.0     76.0       35.0     52.0     70.0      54.0       30.0        59.0           65.0    61.0       30.0       64.0     65.0            69.0           72.0    656.0            81.304435     5862.050994\n",
      "241827        Martín   22         80  7500000  17000               1                       1.0        3.0          3.0         0  177.80   72.12      77.0       28.0             70.0          76.0     23.0       65.0   30.0        40.0         45.0         75.0          74.0         74.0     69.0       69.0     67.0       43.0     58.0     77.0      60.0       35.0        62.0           70.0    49.0       38.0       59.0     72.0            78.0           77.0    659.0            81.284727    31238.901881\n",
      "237156      M. Wagué   19         81  1600000  20000               1                       1.0        3.0          3.0         0  177.80   69.85      69.0       36.0             54.0          62.0     31.0       71.0   32.0        31.0         56.0         68.0          84.0         79.0     79.0       65.0     85.0       56.0     84.0     67.0      50.0       32.0        68.0           67.0    55.0       39.0       66.0     61.0            68.0           68.0    716.0            81.223159     5964.261458\n"
     ]
    }
   ],
   "source": [
    "\n",
    "# Get the top 10 players based on predicted potential\n",
    "top_players = RB.nlargest(10, 'Predicted Potential')\n",
    "    \n",
    "# Display the top players' information in a table format\n",
    "print(\"\\nTop 10 Players' Information:\")\n",
    "print(top_players.to_string(index=False))\n",
    "data= top_players"
   ]
  }
 ],
 "metadata": {
  "kernelspec": {
   "display_name": "Python 3",
   "language": "python",
   "name": "python3"
  },
  "language_info": {
   "codemirror_mode": {
    "name": "ipython",
    "version": 3
   },
   "file_extension": ".py",
   "mimetype": "text/x-python",
   "name": "python",
   "nbconvert_exporter": "python",
   "pygments_lexer": "ipython3",
   "version": "3.12.3"
  }
 },
 "nbformat": 4,
 "nbformat_minor": 2
}
