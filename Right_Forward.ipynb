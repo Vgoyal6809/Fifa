{
 "cells": [
  {
   "cell_type": "markdown",
   "metadata": {},
   "source": [
    "1. Import Libraries"
   ]
  },
  {
   "cell_type": "code",
   "execution_count": 1,
   "metadata": {},
   "outputs": [],
   "source": [
    "import pandas as pd\n",
    "from sklearn.model_selection import train_test_split\n",
    "from sklearn.preprocessing import LabelEncoder"
   ]
  },
  {
   "cell_type": "markdown",
   "metadata": {},
   "source": [
    "2. Reading File"
   ]
  },
  {
   "cell_type": "code",
   "execution_count": 2,
   "metadata": {},
   "outputs": [],
   "source": [
    "RF = pd.read_csv(\"RF_position.csv\")"
   ]
  },
  {
   "cell_type": "markdown",
   "metadata": {},
   "source": [
    "3. Selecting Features"
   ]
  },
  {
   "cell_type": "code",
   "execution_count": 3,
   "metadata": {},
   "outputs": [],
   "source": [
    "\n",
    "# Drop unnecessary columns\n",
    "RF = RF.drop(['Nationality', 'Overall', 'Club', 'Work Rate', 'Body Type',\n",
    "                  'Jersey Number', 'Joined', 'Loaned From', 'Contract Valid Until',\n",
    "                  'GKDiving', 'GKHandling', 'GKKicking', 'GKPositioning', \n",
    "                  'GKReflexes', 'Release Clause', 'Positioning'], axis=1)\n",
    "\n",
    "# Convert categorical features\n",
    "label_encoder = LabelEncoder()\n",
    "RF['Preferred Foot'] = label_encoder.fit_transform(RF['Preferred Foot'])\n",
    "RF['Position'] = label_encoder.fit_transform(RF['Position'])\n",
    "    \n"
   ]
  },
  {
   "cell_type": "markdown",
   "metadata": {},
   "source": [
    "4. Feature Engineering Functions"
   ]
  },
  {
   "cell_type": "code",
   "execution_count": 4,
   "metadata": {},
   "outputs": [],
   "source": [
    "import NormalizeValue\n",
    "\n",
    "RF['Height'] = RF['Height'].apply(NormalizeValue.convert_height_to_cm)\n",
    "RF['Weight'] = RF['Weight'].apply(NormalizeValue.convert_weight_to_kg)\n",
    "RF['Value'] = RF['Value'].apply(NormalizeValue.convert_value_wage).astype(int)\n",
    "RF['Wage'] = RF['Wage'].apply(NormalizeValue.convert_value_wage).astype(int)\n",
    "    \n",
    "    # Create additional features\n",
    "RF['Fitness'] = RF[['Acceleration', 'SprintSpeed', 'Agility', 'Reactions',\n",
    "                         'Balance', 'Jumping', 'Stamina', 'Strength', \n",
    "                         'Aggression', 'Vision']].sum(axis=1)\n",
    "    \n",
    "\n"
   ]
  },
  {
   "cell_type": "markdown",
   "metadata": {},
   "source": [
    "Potential Prediction Model"
   ]
  },
  {
   "cell_type": "code",
   "execution_count": 5,
   "metadata": {},
   "outputs": [
    {
     "name": "stdout",
     "output_type": "stream",
     "text": [
      "Player Potential : \n",
      "Combined R^2 Test: 0.8772552881811697\n",
      "Combined R^2 Train: 0.9700583113713024\n"
     ]
    },
    {
     "name": "stderr",
     "output_type": "stream",
     "text": [
      "C:\\Users\\goel6\\AppData\\Roaming\\Python\\Python312\\site-packages\\sklearn\\linear_model\\_ridge.py:216: LinAlgWarning: Ill-conditioned matrix (rcond=5.47437e-17): result may not be accurate.\n",
      "  return linalg.solve(A, Xy, assume_a=\"pos\", overwrite_a=True).T\n"
     ]
    }
   ],
   "source": [
    "import CombinedModle\n",
    "\n",
    "# Define features and targets for potential prediction\n",
    "x_potential = RF.drop(['ID', 'Potential'], axis=1)\n",
    "y_potential = RF['Potential']\n",
    "\n",
    "# Ensure x_potential contains only numeric values\n",
    "x_potential = x_potential.select_dtypes(include=['number'])\n",
    "\n",
    "# Split data into train and test\n",
    "x_train_p, x_test_p, y_train_p, y_test_p = train_test_split(x_potential, y_potential, test_size=0.25, random_state=42)\n",
    "print(\"Player Potential : \")\n",
    "type='potential'\n",
    "Combine_test_p, Combine_train_p , RF = CombinedModle.train_and_evaluate(RF, type, x_train_p, y_train_p, x_test_p, y_test_p)\n",
    "\n"
   ]
  },
  {
   "cell_type": "markdown",
   "metadata": {},
   "source": [
    "Wage Prediction Model"
   ]
  },
  {
   "cell_type": "code",
   "execution_count": 6,
   "metadata": {},
   "outputs": [
    {
     "name": "stdout",
     "output_type": "stream",
     "text": [
      "\n",
      "Player Wage : \n",
      "Combined R^2 Test: 0.7403981088743563\n",
      "Combined R^2 Train: 0.9326154080797795\n"
     ]
    }
   ],
   "source": [
    "import CombinedModle\n",
    "\n",
    "\n",
    "x_Wage = RF[['International Reputation', 'Potential', 'Fitness', 'Skill Moves','Value']]\n",
    "y_Wage = RF['Wage']\n",
    "\n",
    "# Ensure x_Wage contains only numeric values\n",
    "x_Wage = x_Wage.select_dtypes(include=['number'])\n",
    "\n",
    "# Split data into train and test\n",
    "x_train_w, x_test_w, y_train_w, y_test_w = train_test_split(x_Wage, y_Wage, test_size=0.25, random_state=42)\n",
    "print(\"\\nPlayer Wage : \")\n",
    "type='wage'\n",
    "Combine_test_w, Combine_train_w, RF = CombinedModle.train_and_evaluate(RF, type, x_train_w, y_train_w, x_test_w, y_test_w)\n",
    "\n"
   ]
  },
  {
   "cell_type": "markdown",
   "metadata": {},
   "source": [
    "Filtering Top 10 Players"
   ]
  },
  {
   "cell_type": "code",
   "execution_count": 7,
   "metadata": {},
   "outputs": [
    {
     "name": "stdout",
     "output_type": "stream",
     "text": [
      "\n",
      "Top 10 Players' Information:\n",
      "    ID        Name  Age  Potential     Value   Wage  Preferred Foot  International Reputation  Weak Foot  Skill Moves  Position  Height  Weight  Crossing  Finishing  HeadingAccuracy  ShortPassing  Volleys  Dribbling  Curve  FKAccuracy  LongPassing  BallControl  Acceleration  SprintSpeed  Agility  Reactions  Balance  ShotPower  Jumping  Stamina  Strength  LongShots  Aggression  Interceptions  Vision  Penalties  Composure  Marking  StandingTackle  SlidingTackle  Fitness  PredictedPotential  PredictedWage\n",
      "158023    L. Messi   31         94 110500000 565000               0                       5.0        4.0          4.0         1  170.18   72.12      84.0       95.0             70.0          90.0     86.0       97.0   93.0        94.0         87.0         96.0          91.0         86.0     91.0       95.0     95.0       85.0     68.0     72.0      59.0       94.0        48.0           22.0    94.0       75.0       96.0     33.0            28.0           26.0    799.0           91.613855  261453.135882\n",
      "231443  O. Dembélé   21         92  40000000 155000               0                       3.0        5.0          4.0         2  177.80   67.13      78.0       78.0             43.0          78.0     76.0       90.0   78.0        64.0         70.0         83.0          93.0         92.0     90.0       82.0     85.0       83.0     59.0     73.0      46.0       70.0        54.0           36.0    84.0       75.0       75.0     42.0            30.0           33.0    758.0           89.362934  171986.873392\n",
      "202652 R. Sterling   23         89  56500000 195000               1                       3.0        3.0          4.0         2  170.18   68.95      77.0       77.0             38.0          84.0     67.0       88.0   70.0        63.0         69.0         87.0          95.0         92.0     93.0       87.0     93.0       73.0     57.0     78.0      52.0       73.0        38.0           30.0    77.0       69.0       77.0     47.0            58.0           54.0    762.0           88.881833  162583.191397\n",
      "222737      Malcom   21         89  31500000 140000               0                       2.0        4.0          4.0         2  172.72   73.94      79.0       75.0             57.0          82.0     71.0       85.0   77.0        81.0         73.0         85.0          87.0         82.0     92.0       80.0     84.0       85.0     58.0     74.0      64.0       85.0        53.0           26.0    83.0       68.0       78.0     21.0            28.0           17.0    757.0           86.921304   97502.948253\n",
      "204485   R. Mahrez   27         85  40500000 205000               0                       3.0        4.0          5.0         2  177.80   67.13      81.0       80.0             48.0          82.0     72.0       91.0   84.0        78.0         76.0         90.0          88.0         83.0     93.0       77.0     88.0       79.0     61.0     76.0      54.0       81.0        48.0           39.0    81.0       73.0       86.0     45.0            31.0           18.0    749.0           86.601228  155534.746673\n",
      "236632 David Neres   21         86  18000000  18000               0                       2.0        3.0          5.0         2  175.26   66.22      66.0       76.0             50.0          78.0     72.0       87.0   65.0        52.0         52.0         84.0          85.0         86.0     91.0       72.0     84.0       72.0     58.0     73.0      63.0       65.0        52.0           37.0    78.0       69.0       78.0     32.0            32.0           32.0    742.0           84.963305   39666.476169\n",
      "196889    S. Verdi   25         81  19500000  77000               0                       2.0        5.0          4.0         2  170.18   60.78      82.0       67.0             42.0          82.0     74.0       84.0   84.0        84.0         76.0         86.0          88.0         86.0     92.0       78.0     90.0       81.0     51.0     75.0      48.0       77.0        48.0           36.0    82.0       68.0       78.0     55.0            48.0           60.0    738.0           84.326546   40581.613465\n",
      "190264 Iago Falqué   28         80  15000000  59000               0                       3.0        3.0          4.0         2  175.26   68.95      78.0       75.0             53.0          82.0     69.0       84.0   80.0        75.0         74.0         85.0          79.0         76.0     85.0       78.0     85.0       70.0     36.0     74.0      53.0       75.0        48.0           26.0    78.0       77.0       78.0     54.0            36.0           32.0    692.0           83.087601   34997.567499\n",
      "229167  M. Rashica   22         83  11000000  25000               1                       1.0        4.0          3.0         2  177.80   73.03      76.0       69.0             50.0          68.0     68.0       80.0   71.0        61.0         64.0         77.0          93.0         86.0     90.0       70.0     77.0       79.0     41.0     75.0      57.0       72.0        67.0           26.0    70.0       45.0       72.0     53.0            29.0           36.0    726.0           82.990338   35994.348858\n",
      "208330  A. Januzaj   23         84  14000000  29000               0                       1.0        4.0          4.0         2  185.42   76.20      77.0       71.0             23.0          79.0     67.0       81.0   74.0        65.0         74.0         80.0          79.0         76.0     83.0       76.0     71.0       72.0     61.0     68.0      59.0       70.0        41.0           36.0    78.0       60.0       70.0     30.0            22.0           22.0    692.0           82.486862   41951.792107\n"
     ]
    }
   ],
   "source": [
    "\n",
    "# Get the top 10 players based on predicted potential\n",
    "top_players = RF.nlargest(10, 'PredictedPotential')\n",
    "    \n",
    "# Display the top players' information in a table format\n",
    "print(\"\\nTop 10 Players' Information:\")\n",
    "print(top_players.to_string(index=False))\n",
    "data= top_players"
   ]
  }
 ],
 "metadata": {
  "kernelspec": {
   "display_name": "Python 3",
   "language": "python",
   "name": "python3"
  },
  "language_info": {
   "codemirror_mode": {
    "name": "ipython",
    "version": 3
   },
   "file_extension": ".py",
   "mimetype": "text/x-python",
   "name": "python",
   "nbconvert_exporter": "python",
   "pygments_lexer": "ipython3",
   "version": "3.12.3"
  }
 },
 "nbformat": 4,
 "nbformat_minor": 2
}
