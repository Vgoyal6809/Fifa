{
 "cells": [
  {
   "cell_type": "markdown",
   "metadata": {},
   "source": [
    "1. Import Libraries"
   ]
  },
  {
   "cell_type": "code",
   "execution_count": 1,
   "metadata": {},
   "outputs": [],
   "source": [
    "import pandas as pd\n",
    "from sklearn.model_selection import train_test_split\n",
    "from sklearn.preprocessing import LabelEncoder"
   ]
  },
  {
   "cell_type": "markdown",
   "metadata": {},
   "source": [
    "2. Reading File"
   ]
  },
  {
   "cell_type": "code",
   "execution_count": 2,
   "metadata": {},
   "outputs": [],
   "source": [
    "GK = pd.read_csv(\"GK_position.csv\")"
   ]
  },
  {
   "cell_type": "markdown",
   "metadata": {},
   "source": [
    "3. Selecting Features"
   ]
  },
  {
   "cell_type": "code",
   "execution_count": 3,
   "metadata": {},
   "outputs": [],
   "source": [
    "columns_to_keep = ['ID', 'Name', 'Age', 'Potential', 'Value', 'Wage', \n",
    "                   'International Reputation', 'Body Type', 'Height', \n",
    "                   'Weight', 'GKDiving', 'GKHandling', 'GKKicking', 'GKPositioning', \n",
    "                   'GKReflexes', 'Release Clause', 'Positioning']\n",
    "\n",
    "GK_selected = GK[columns_to_keep]\n",
    "\n",
    "# Convert categorical features\n",
    "label_encoder = LabelEncoder()\n",
    "GK['Body Type'] = label_encoder.fit_transform(GK['Body Type'])\n",
    "GK['Position'] = label_encoder.fit_transform(GK['Position'])"
   ]
  },
  {
   "cell_type": "markdown",
   "metadata": {},
   "source": [
    "4. Feature Engineering Functions"
   ]
  },
  {
   "cell_type": "code",
   "execution_count": 4,
   "metadata": {},
   "outputs": [
    {
     "data": {
      "text/plain": [
       "Wage         0.504795\n",
       "Potential    1.000000\n",
       "Value        0.570208\n",
       "Name: Potential, dtype: float64"
      ]
     },
     "execution_count": 4,
     "metadata": {},
     "output_type": "execute_result"
    }
   ],
   "source": [
    "import NormalizeValue\n",
    "\n",
    "GK['Height'] = GK['Height'].apply(NormalizeValue.convert_height_to_cm)\n",
    "GK['Weight'] = GK['Weight'].apply(NormalizeValue.convert_weight_to_kg)\n",
    "GK['Value'] = GK['Value'].apply(NormalizeValue.convert_value_wage).astype(int)\n",
    "GK['Wage'] = GK['Wage'].apply(NormalizeValue.convert_value_wage).astype(int)\n",
    "    \n",
    "    # Create additional features\n",
    "GK['ShotStoppingAbility'] = (\n",
    "    GK['GKReflexes']  +\n",
    "    GK['GKDiving']  +\n",
    "    GK['GKHandling'] +\n",
    "    GK['GKPositioning']  +\n",
    "    GK['GKKicking'] \n",
    ")\n",
    "GK['PhysicalStrength'] = (\n",
    "    GK['Strength'] +\n",
    "    GK['Agility']  +\n",
    "    GK['Balance'] +\n",
    "    GK['Acceleration'] +\n",
    "    GK['Stamina'] +\n",
    "    GK['Jumping'] \n",
    ")\n",
    "\n",
    "GK[['Wage','Potential','Value']].corr()['Potential']"
   ]
  },
  {
   "cell_type": "markdown",
   "metadata": {},
   "source": [
    "Potential Prediction Model"
   ]
  },
  {
   "cell_type": "code",
   "execution_count": 5,
   "metadata": {},
   "outputs": [
    {
     "name": "stdout",
     "output_type": "stream",
     "text": [
      "Player Potential : \n",
      "Combined R^2 Test: 0.9416928872597773\n",
      "Combined R^2 Train: 0.9753486660062586\n"
     ]
    },
    {
     "name": "stderr",
     "output_type": "stream",
     "text": [
      "C:\\Users\\goel6\\AppData\\Roaming\\Python\\Python312\\site-packages\\sklearn\\linear_model\\_ridge.py:216: LinAlgWarning: Ill-conditioned matrix (rcond=2.80082e-17): result may not be accurate.\n",
      "  return linalg.solve(A, Xy, assume_a=\"pos\", overwrite_a=True).T\n"
     ]
    }
   ],
   "source": [
    "import CombinedModle\n",
    "\n",
    "# Define features and targets for potential prediction\n",
    "x_potential = GK.drop(['ID', 'Potential'], axis=1)\n",
    "y_potential = GK['Potential']\n",
    "\n",
    "# Ensure x_potential contains only numeric values\n",
    "x_potential = x_potential.select_dtypes(include=['number'])\n",
    "\n",
    "# Split data\n",
    "x_train_p, x_test_p, y_train_p, y_test_p = train_test_split(x_potential, y_potential, test_size=0.25, random_state=42)\n",
    "print(\"Player Potential : \")\n",
    "type='potential'\n",
    "Combine_test_p, Combine_train_p , GK = CombinedModle.train_and_evaluate(GK, type, x_train_p, y_train_p, x_test_p, y_test_p)\n",
    "\n",
    "\n"
   ]
  },
  {
   "cell_type": "markdown",
   "metadata": {},
   "source": [
    "Wage Prediction Model"
   ]
  },
  {
   "cell_type": "code",
   "execution_count": 6,
   "metadata": {},
   "outputs": [
    {
     "name": "stdout",
     "output_type": "stream",
     "text": [
      "\n",
      "Player Wage : \n",
      "Combined R^2 Test: 0.7075757748861898\n",
      "Combined R^2 Train: 0.9148938543728242\n"
     ]
    }
   ],
   "source": [
    "import CombinedModle\n",
    "\n",
    "\n",
    "x_Wage = GK[['International Reputation', 'Potential','Value']]\n",
    "y_Wage = GK['Wage']\n",
    "\n",
    "# Ensure x_Wage contains only numeric values\n",
    "x_Wage = x_Wage.select_dtypes(include=['number'])\n",
    "\n",
    "# Split data\n",
    "x_train_w, x_test_w, y_train_w, y_test_w = train_test_split(x_Wage, y_Wage, test_size=0.25, random_state=42)\n",
    "print(\"\\nPlayer Wage : \")\n",
    "type='wage'\n",
    "Combine_test_w, Combine_train_w, GK = CombinedModle.train_and_evaluate(GK, type, x_train_w, y_train_w, x_test_w, y_test_w)\n",
    "\n"
   ]
  },
  {
   "cell_type": "markdown",
   "metadata": {},
   "source": [
    "Filtering Top 10 Players"
   ]
  },
  {
   "cell_type": "code",
   "execution_count": 7,
   "metadata": {},
   "outputs": [
    {
     "name": "stdout",
     "output_type": "stream",
     "text": [
      "\n",
      "Top 10 Players' Information:\n",
      "    ID          Name  Age    Nationality  Overall  Potential                   Club    Value   Wage Preferred Foot  International Reputation  Weak Foot  Skill Moves      Work Rate  Body Type  Position  Jersey Number       Joined Loaned From Contract Valid Until  Height  Weight  Crossing  Finishing  HeadingAccuracy  ShortPassing  Volleys  Dribbling  Curve  FKAccuracy  LongPassing  BallControl  Acceleration  SprintSpeed  Agility  Reactions  Balance  ShotPower  Jumping  Stamina  Strength  LongShots  Aggression  Interceptions  Positioning  Vision  Penalties  Composure  Marking  StandingTackle  SlidingTackle  GKDiving  GKHandling  GKKicking  GKPositioning  GKReflexes Release Clause  ShotStoppingAbility  PhysicalStrength  PredictedPotential  PredictedWage\n",
      "192448 M. ter Stegen   26        Germany       89         92           FC Barcelona 58000000 240000          Right                       3.0        4.0          1.0 Medium/ Medium          2         0           22.0  Jul 1, 2014         NaN                 2022  187.96   84.82      15.0       14.0             11.0          36.0     14.0       17.0   18.0        12.0         42.0         18.0          38.0         50.0     37.0       85.0     43.0       22.0     79.0     35.0      79.0       10.0        43.0           22.0         11.0    69.0       25.0       69.0     25.0            13.0           10.0      87.0        85.0       88.0           85.0        90.0        €123.3M                435.0             311.0           90.407420  155162.725574\n",
      "226753      A. Onana   22       Cameroon       80         85                   Ajax 14500000  14000          Right                       2.0        3.0          1.0 Medium/ Medium          3         0            1.0 Jan 14, 2015         NaN                 2021  187.96   92.99      15.0       12.0             20.0          33.0     13.0       26.0   30.0        17.0         26.0         38.0          64.0         62.0     68.0       78.0     53.0       21.0     80.0     39.0      67.0       17.0        29.0           15.0         11.0    62.0       27.0       57.0     12.0            18.0           14.0      83.0        79.0       85.0           75.0        80.0         €21.4M                402.0             371.0           85.962929   42833.477262\n",
      "212151  T. Strakosha   23        Albania       81         86                  Lazio 17000000  36000          Right                       1.0        2.0          1.0 Medium/ Medium          1         0            1.0  Aug 9, 2012         NaN                 2019  193.04   78.02      18.0       18.0             11.0          26.0     11.0       14.0   14.0        12.0         22.0         15.0          41.0         46.0     31.0       74.0     47.0       18.0     49.0     23.0      56.0       14.0        20.0           24.0         18.0    49.0       21.0       61.0     20.0            18.0           12.0      81.0        77.0       75.0           78.0        86.0         €30.2M                397.0             247.0           85.610619   39453.814739\n",
      "193698    O. Baumann   28        Germany       83         84    TSG 1899 Hoffenheim 21000000  42000          Right                       2.0        1.0          1.0 Medium/ Medium          2         0            1.0  Jul 1, 2014         NaN                 2021  187.96   82.10      14.0       11.0             16.0          30.0     11.0       19.0   12.0        11.0         25.0         17.0          47.0         51.0     45.0       81.0     43.0       21.0     73.0     39.0      69.0       13.0        32.0           21.0         10.0    41.0       22.0       52.0     15.0            18.0           14.0      82.0        82.0       70.0           82.0        85.0         €37.3M                401.0             316.0           84.355338   50620.679844\n",
      "200726    B. Lecomte   27         France       81         84        Montpellier HSC 15000000  27000           Left                       2.0        3.0          1.0 Medium/ Medium          2         0           40.0  Jul 1, 2017         NaN                 2021  185.42   78.02      13.0       11.0             10.0          17.0     10.0       11.0   20.0        19.0         21.0         23.0          44.0         40.0     36.0       78.0     25.0       18.0     62.0     34.0      55.0       10.0        23.0           24.0         10.0    41.0       20.0       63.0     17.0            11.0           12.0      81.0        76.0       79.0           81.0        82.0         €31.1M                399.0             256.0           84.158254   54015.831054\n",
      "206652   Sergio Rico   24          Spain       79         83                 Fulham 11500000  13000          Right                       2.0        3.0          1.0 Medium/ Medium          1         0           25.0          NaN  Sevilla FC         Jun 30, 2019  193.04   88.00      17.0       14.0             11.0          28.0     15.0       14.0   24.0        20.0         26.0         12.0          48.0         46.0     62.0       76.0     43.0       19.0     63.0     36.0      54.0       12.0        27.0           19.0         11.0    53.0       24.0       60.0     16.0            11.0           11.0      77.0        78.0       77.0           79.0        81.0            NaN                392.0             306.0           84.148369   56108.679316\n",
      "236583   J. Pavlenka   26 Czech Republic       82         85       SV Werder Bremen 19500000  30000          Right                       1.0        3.0          1.0 Medium/ Medium          1         0            1.0  Jul 1, 2017         NaN                 2021  195.58   81.19      11.0       16.0             14.0          28.0     19.0       12.0   10.0        14.0         17.0         19.0          35.0         37.0     39.0       78.0     27.0       21.0     36.0     20.0      68.0       17.0        22.0           13.0         14.0    25.0       18.0       39.0     12.0            10.0           14.0      85.0        78.0       68.0           78.0        85.0         €34.6M                394.0             225.0           84.026575   40556.674985\n",
      "163705   S. Mandanda   33         France       83         83 Olympique de Marseille 13000000  51000          Right                       3.0        3.0          1.0 Medium/ Medium          2         0           16.0 Jul 11, 2017         NaN                 2020  185.42   82.10      14.0       13.0             13.0          37.0     13.0       15.0   13.0        12.0         28.0         17.0          53.0         43.0     52.0       80.0     36.0       24.0     74.0     31.0      61.0       11.0        37.0           23.0         11.0    55.0       11.0       64.0     13.0            15.0           13.0      86.0        81.0       70.0           79.0        84.0         €24.7M                400.0             307.0           83.352656   62896.040004\n",
      "168435     S. Sirigu   31          Italy       82         82                 Torino 13500000  45000          Right                       3.0        2.0          1.0 Medium/ Medium          2         0            1.0 Jun 27, 2017         NaN                 2022  193.04   79.83      13.0       10.0             11.0          23.0     12.0       15.0   11.0        11.0         28.0         18.0          50.0         51.0     52.0       75.0     55.0       20.0     68.0     34.0      66.0       14.0        34.0           20.0         10.0    55.0       19.0       62.0     14.0            11.0           13.0      84.0        76.0       76.0           83.0        81.0           €23M                400.0             325.0           83.335751   56909.667234\n",
      "190778       J. Zoet   27    Netherlands       80         83                    PSV 12500000  16000          Right                       2.0        4.0          1.0 Medium/ Medium          2         0           13.0  Jul 1, 2009         NaN                 2021  187.96   88.00      17.0       12.0             19.0          37.0     19.0       15.0   13.0        20.0         38.0         34.0          57.0         45.0     54.0       77.0     42.0       25.0     57.0     40.0      65.0       17.0        18.0           21.0         11.0    57.0       27.0       61.0     25.0            18.0           16.0      79.0        77.0       77.0           79.0        83.0         €18.4M                395.0             315.0           83.108885   47688.007847\n"
     ]
    }
   ],
   "source": [
    "\n",
    "# Get the top 10 players based on predicted potential\n",
    "top_players = GK.nlargest(10, 'PredictedPotential')\n",
    "    \n",
    "# Display the top players' information in a table format\n",
    "print(\"\\nTop 10 Players' Information:\")\n",
    "print(top_players.to_string(index=False))\n",
    "data= top_players"
   ]
  }
 ],
 "metadata": {
  "kernelspec": {
   "display_name": "Python 3",
   "language": "python",
   "name": "python3"
  },
  "language_info": {
   "codemirror_mode": {
    "name": "ipython",
    "version": 3
   },
   "file_extension": ".py",
   "mimetype": "text/x-python",
   "name": "python",
   "nbconvert_exporter": "python",
   "pygments_lexer": "ipython3",
   "version": "3.12.3"
  }
 },
 "nbformat": 4,
 "nbformat_minor": 2
}
