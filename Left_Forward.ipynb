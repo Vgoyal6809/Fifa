{
 "cells": [
  {
   "cell_type": "markdown",
   "metadata": {},
   "source": [
    "1. Import Libraries\n"
   ]
  },
  {
   "cell_type": "code",
   "execution_count": 1,
   "metadata": {},
   "outputs": [],
   "source": [
    "import pandas as pd\n",
    "from sklearn.model_selection import train_test_split\n",
    "from sklearn.preprocessing import LabelEncoder"
   ]
  },
  {
   "cell_type": "markdown",
   "metadata": {},
   "source": [
    "2. Reading File"
   ]
  },
  {
   "cell_type": "code",
   "execution_count": 2,
   "metadata": {},
   "outputs": [],
   "source": [
    "LF = pd.read_csv(\"LF_position.csv\")\n"
   ]
  },
  {
   "cell_type": "markdown",
   "metadata": {},
   "source": [
    "3. Selecting Features\n"
   ]
  },
  {
   "cell_type": "code",
   "execution_count": 3,
   "metadata": {},
   "outputs": [],
   "source": [
    "\n",
    "# Drop unnecessary columns\n",
    "LF = LF.drop(['Nationality', 'Overall', 'Club', 'Work Rate', 'Body Type',\n",
    "                  'Jersey Number', 'Joined', 'Loaned From', 'Contract Valid Until',\n",
    "                  'GKDiving', 'GKHandling', 'GKKicking', 'GKPositioning', \n",
    "                  'GKReflexes', 'Release Clause', 'Positioning'], axis=1)\n",
    "\n",
    "# Convert categorical features\n",
    "label_encoder = LabelEncoder()\n",
    "LF['Preferred Foot'] = label_encoder.fit_transform(LF['Preferred Foot'])\n",
    "LF['Position'] = label_encoder.fit_transform(LF['Position'])\n",
    "    \n"
   ]
  },
  {
   "cell_type": "markdown",
   "metadata": {},
   "source": [
    "4. Feature Engineering Functions"
   ]
  },
  {
   "cell_type": "code",
   "execution_count": 4,
   "metadata": {},
   "outputs": [],
   "source": [
    "import NormalizeValue\n",
    "\n",
    "LF['Height'] = LF['Height'].apply(NormalizeValue.convert_height_to_cm)\n",
    "LF['Weight'] = LF['Weight'].apply(NormalizeValue.convert_weight_to_kg)\n",
    "LF['Value'] = LF['Value'].apply(NormalizeValue.convert_value_wage).astype(int)\n",
    "LF['Wage'] = LF['Wage'].apply(NormalizeValue.convert_value_wage).astype(int)\n",
    "    \n",
    "    # Create additional features\n",
    "LF['Fitness'] = LF[['Acceleration', 'SprintSpeed', 'Agility', 'Reactions',\n",
    "                         'Balance', 'Jumping', 'Stamina', 'Strength', \n",
    "                         'Aggression', 'Vision']].sum(axis=1)\n",
    "    \n",
    "\n"
   ]
  },
  {
   "cell_type": "markdown",
   "metadata": {},
   "source": [
    "Potential Prediction Model"
   ]
  },
  {
   "cell_type": "code",
   "execution_count": 5,
   "metadata": {},
   "outputs": [
    {
     "name": "stdout",
     "output_type": "stream",
     "text": [
      "Player Potential : \n",
      "Combined R^2 Test: 0.8859516296659687\n",
      "Combined R^2 Train: 0.9760686854844547\n"
     ]
    },
    {
     "name": "stderr",
     "output_type": "stream",
     "text": [
      "C:\\Users\\goel6\\AppData\\Roaming\\Python\\Python312\\site-packages\\sklearn\\linear_model\\_ridge.py:216: LinAlgWarning: Ill-conditioned matrix (rcond=3.1588e-17): result may not be accurate.\n",
      "  return linalg.solve(A, Xy, assume_a=\"pos\", overwrite_a=True).T\n"
     ]
    }
   ],
   "source": [
    "import CombinedModle\n",
    "\n",
    "# Define features and targets for potential prediction\n",
    "x_potential = LF.drop(['ID', 'Potential'], axis=1)\n",
    "y_potential = LF['Potential']\n",
    "\n",
    "# Ensure x_potential contains only numeric values\n",
    "x_potential = x_potential.select_dtypes(include=['number'])\n",
    "\n",
    "# Split data\n",
    "x_train_p, x_test_p, y_train_p, y_test_p = train_test_split(x_potential, y_potential, test_size=0.25, random_state=42)\n",
    "print(\"Player Potential : \")\n",
    "type='potential'\n",
    "Combine_test_p, Combine_train_p , LF = CombinedModle.train_and_evaluate(LF, type, x_train_p, y_train_p, x_test_p, y_test_p)\n",
    "\n"
   ]
  },
  {
   "cell_type": "markdown",
   "metadata": {},
   "source": [
    "Wage Prediction Model"
   ]
  },
  {
   "cell_type": "code",
   "execution_count": 6,
   "metadata": {},
   "outputs": [
    {
     "name": "stdout",
     "output_type": "stream",
     "text": [
      "\n",
      "Player Wage : \n",
      "Combined R^2 Test: 0.9431281130777923\n",
      "Combined R^2 Train: 0.9580707950486574\n"
     ]
    }
   ],
   "source": [
    "import CombinedModle\n",
    "\n",
    "\n",
    "x_Wage = LF[['International Reputation', 'Potential', 'Fitness', 'Skill Moves','Value']]\n",
    "y_Wage = LF['Wage']\n",
    "\n",
    "# Ensure x_Wage contains only numeric values\n",
    "x_Wage = x_Wage.select_dtypes(include=['number'])\n",
    "\n",
    "# Split data\n",
    "x_train_w, x_test_w, y_train_w, y_test_w = train_test_split(x_Wage, y_Wage, test_size=0.25, random_state=42)\n",
    "print(\"\\nPlayer Wage : \")\n",
    "type='wage'\n",
    "Combine_test_w, Combine_train_w, LF = CombinedModle.train_and_evaluate(LF, type, x_train_w, y_train_w, x_test_w, y_test_w)\n",
    "\n"
   ]
  },
  {
   "cell_type": "markdown",
   "metadata": {},
   "source": [
    "Filtering Top 10 Players"
   ]
  },
  {
   "cell_type": "code",
   "execution_count": 7,
   "metadata": {},
   "outputs": [
    {
     "name": "stdout",
     "output_type": "stream",
     "text": [
      "\n",
      "Top 10 Players' Information:\n",
      "    ID            Name  Age  Potential     Value   Wage  Preferred Foot  International Reputation  Weak Foot  Skill Moves  Position  Height  Weight  Crossing  Finishing  HeadingAccuracy  ShortPassing  Volleys  Dribbling  Curve  FKAccuracy  LongPassing  BallControl  Acceleration  SprintSpeed  Agility  Reactions  Balance  ShotPower  Jumping  Stamina  Strength  LongShots  Aggression  Interceptions  Vision  Penalties  Composure  Marking  StandingTackle  SlidingTackle  Fitness  PredictedPotential  PredictedWage\n",
      "190871       Neymar Jr   26         93 118500000 290000               1                       5.0        5.0          5.0         2  175.26   68.04      79.0       87.0             62.0          84.0     84.0       96.0   88.0        87.0         78.0         95.0          94.0         90.0     96.0       94.0     84.0       80.0     61.0     81.0      49.0       82.0        56.0           36.0    87.0       81.0       94.0     27.0            24.0           33.0    792.0           92.306489  313406.235280\n",
      "198710    J. Rodríguez   26         89  69500000 315000               0                       4.0        3.0          4.0         0  180.34   78.02      90.0       83.0             62.0          89.0     90.0       85.0   89.0        86.0         83.0         90.0          73.0         67.0     83.0       85.0     76.0       86.0     54.0     70.0      68.0       92.0        64.0           55.0    89.0       81.0       87.0     52.0            41.0           44.0    729.0           89.695072  261762.031951\n",
      "211300      A. Martial   22         90  42500000 165000               1                       3.0        3.0          4.0         2  182.88   76.20      76.0       84.0             69.0          77.0     74.0       87.0   84.0        54.0         60.0         86.0          88.0         89.0     85.0       81.0     81.0       84.0     74.0     75.0      75.0       80.0        58.0           42.0    73.0       81.0       79.0     38.0            39.0           36.0    779.0           89.280083  136809.641766\n",
      "197781            Isco   26         91  73500000 315000               1                       3.0        3.0          4.0         2  175.26   78.93      75.0       79.0             55.0          89.0     65.0       94.0   88.0        76.0         83.0         95.0          75.0         69.0     87.0       77.0     90.0       69.0     64.0     70.0      59.0       87.0        58.0           64.0    89.0       76.0       86.0     60.0            64.0           51.0    738.0           87.624712  257759.030595\n",
      "238794 Vinícius Júnior   17         92  17500000  66000               1                       1.0        4.0          5.0         2  175.26   73.03      65.0       70.0             50.0          70.0     71.0       81.0   77.0        62.0         48.0         80.0          92.0         94.0     90.0       70.0     82.0       74.0     74.0     79.0      59.0       68.0        48.0           26.0    69.0       65.0       75.0     32.0            25.0           18.0    757.0           87.072306   69762.699658\n",
      "225953     S. Bergwijn   20         86  18000000  17000               1                       1.0        2.0          4.0         2  177.80   78.02      72.0       73.0             55.0          75.0     67.0       87.0   76.0        66.0         53.0         83.0          87.0         88.0     78.0       71.0     89.0       78.0     71.0     74.0      76.0       74.0        44.0           26.0    73.0       59.0       75.0     40.0            31.0           26.0    751.0           85.776908   32471.423354\n",
      "211368           Bruma   23         83  16500000  48000               1                       2.0        4.0          4.0         2  172.72   69.85      72.0       71.0             53.0          75.0     60.0       87.0   77.0        70.0         60.0         83.0          94.0         89.0     93.0       75.0     90.0       81.0     73.0     77.0      54.0       73.0        64.0           38.0    70.0       71.0       72.0     26.0            27.0           28.0    779.0           84.519626   43531.857006\n",
      "224458      Diogo Jota   21         86  15500000  56000               1                       2.0        4.0          4.0         2  177.80   73.03      65.0       74.0             56.0          72.0     71.0       81.0   76.0        58.0         65.0         83.0          87.0         76.0     87.0       80.0     87.0       78.0     66.0     82.0      72.0       71.0        80.0           54.0    72.0       61.0       83.0     49.0            54.0           39.0    789.0           84.244836   41803.675581\n",
      "240740  C. Hudson-Odoi   17         87   3500000  25000               1                       1.0        3.0          4.0         2  177.80   74.84      62.0       60.0             53.0          69.0     52.0       77.0   63.0        64.0         63.0         72.0          86.0         84.0     84.0       62.0     71.0       60.0     54.0     57.0      69.0       57.0        50.0           23.0    63.0       55.0       64.0     22.0            33.0           36.0    680.0           83.101132   14988.342710\n",
      "224218       F. Kamano   22         82  12000000  39000               1                       1.0        4.0          4.0         2  175.26   77.11      72.0       76.0             49.0          70.0     67.0       79.0   70.0        58.0         55.0         75.0          90.0         89.0     79.0       72.0     78.0       73.0     55.0     71.0      58.0       74.0        59.0           24.0    69.0       66.0       71.0     34.0            33.0           29.0    720.0           83.001588   29424.462024\n"
     ]
    }
   ],
   "source": [
    "\n",
    "# Get the top 10 players based on predicted potential\n",
    "top_players = LF.nlargest(10, 'PredictedPotential')\n",
    "    \n",
    "# Display the top players' information in a table format\n",
    "print(\"\\nTop 10 Players' Information:\")\n",
    "print(top_players.to_string(index=False))\n",
    "data= top_players"
   ]
  }
 ],
 "metadata": {
  "kernelspec": {
   "display_name": "Python 3",
   "language": "python",
   "name": "python3"
  },
  "language_info": {
   "codemirror_mode": {
    "name": "ipython",
    "version": 3
   },
   "file_extension": ".py",
   "mimetype": "text/x-python",
   "name": "python",
   "nbconvert_exporter": "python",
   "pygments_lexer": "ipython3",
   "version": "3.12.3"
  }
 },
 "nbformat": 4,
 "nbformat_minor": 2
}
