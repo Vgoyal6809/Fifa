{
 "cells": [
  {
   "cell_type": "markdown",
   "metadata": {},
   "source": [
    "* Combined ST\n",
    "* Combined CB"
   ]
  },
  {
   "cell_type": "code",
   "execution_count": null,
   "metadata": {},
   "outputs": [],
   "source": [
    "import pandas as pd\n",
    "\n",
    "data = pd.read_csv('GK_position.csv')\n",
    "data\n",
    "unique_values = data['Position'].unique()\n",
    "print(unique_values)\n",
    "print(len(unique_values))"
   ]
  },
  {
   "cell_type": "markdown",
   "metadata": {},
   "source": [
    "#### Saving Seperate CSV according to positions"
   ]
  },
  {
   "cell_type": "code",
   "execution_count": null,
   "metadata": {},
   "outputs": [],
   "source": [
    "# Position_File = data[(data['Position'] == 'LB') | (data['Position'] == 'LWB')]\n",
    "# Position_File\n",
    "# Position_File.to_csv('LM_position.csv', index=False)"
   ]
  },
  {
   "cell_type": "code",
   "execution_count": null,
   "metadata": {},
   "outputs": [],
   "source": [
    "Position_File = data[(data['Position'] == 'GK') ]\n",
    "Position_File=Position_File[['Name','Age','Position','Value','Wage','Body Type', 'Height', 'Weight','Potential', 'GKDiving', 'GKHandling', 'GKKicking', 'GKPositioning', 'GKReflexes','Reactions', 'Balance', 'Jumping', 'Agility', 'Strength','Stamina','Acceleration','BallControl']]\n",
    "Position_File"
   ]
  }
 ],
 "metadata": {
  "language_info": {
   "name": "python"
  }
 },
 "nbformat": 4,
 "nbformat_minor": 2
}
